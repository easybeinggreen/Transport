{
 "cells": [
  {
   "cell_type": "code",
   "execution_count": 1,
   "metadata": {},
   "outputs": [],
   "source": [
    "# Importing the libraries\n",
    "import pandas as pd\n",
    "import numpy as np\n",
    "from sklearn.model_selection import train_test_split\n",
    "from sklearn.tree import DecisionTreeRegressor\n",
    "from sklearn.ensemble import RandomForestRegressor\n",
    "from sklearn.model_selection import RandomizedSearchCV\n",
    "from sklearn.metrics import mean_absolute_error\n",
    "import seaborn as sns\n",
    "import matplotlib.pyplot as plt\n",
    "from datetime import date\n",
    "import calendar\n",
    "%matplotlib inline\n",
    "sns.set_style(\"white\", {'axes.grid' : True})\n",
    "sns.set_palette(\"tab10\", 14)\n",
    "sns.set_context('talk')"
   ]
  },
  {
   "cell_type": "code",
   "execution_count": 2,
   "metadata": {},
   "outputs": [
    {
     "data": {
      "text/html": [
       "<div>\n",
       "<style scoped>\n",
       "    .dataframe tbody tr th:only-of-type {\n",
       "        vertical-align: middle;\n",
       "    }\n",
       "\n",
       "    .dataframe tbody tr th {\n",
       "        vertical-align: top;\n",
       "    }\n",
       "\n",
       "    .dataframe thead th {\n",
       "        text-align: right;\n",
       "    }\n",
       "</style>\n",
       "<table border=\"1\" class=\"dataframe\">\n",
       "  <thead>\n",
       "    <tr style=\"text-align: right;\">\n",
       "      <th></th>\n",
       "      <th>ride_id</th>\n",
       "      <th>travel_time</th>\n",
       "      <th>max_capacity</th>\n",
       "      <th>number_of_ticket</th>\n",
       "      <th>daily_mean</th>\n",
       "      <th>daily_min</th>\n",
       "      <th>daily_max</th>\n",
       "      <th>tf_mean</th>\n",
       "      <th>tf_min</th>\n",
       "      <th>tf_max</th>\n",
       "      <th>...</th>\n",
       "      <th>travel_from_Sori</th>\n",
       "      <th>car_type_Bus</th>\n",
       "      <th>car_type_shuttle</th>\n",
       "      <th>day_Fri</th>\n",
       "      <th>day_Mon</th>\n",
       "      <th>day_Sat</th>\n",
       "      <th>day_Sun</th>\n",
       "      <th>day_Thur</th>\n",
       "      <th>day_Tue</th>\n",
       "      <th>day_Wed</th>\n",
       "    </tr>\n",
       "  </thead>\n",
       "  <tbody>\n",
       "    <tr>\n",
       "      <th>0</th>\n",
       "      <td>1442</td>\n",
       "      <td>7.250000</td>\n",
       "      <td>49</td>\n",
       "      <td>1.0</td>\n",
       "      <td>2734.0</td>\n",
       "      <td>1947.0</td>\n",
       "      <td>4061.0</td>\n",
       "      <td>2978.0</td>\n",
       "      <td>2014.0</td>\n",
       "      <td>4864.0</td>\n",
       "      <td>...</td>\n",
       "      <td>0</td>\n",
       "      <td>1</td>\n",
       "      <td>0</td>\n",
       "      <td>0</td>\n",
       "      <td>0</td>\n",
       "      <td>0</td>\n",
       "      <td>0</td>\n",
       "      <td>0</td>\n",
       "      <td>1</td>\n",
       "      <td>0</td>\n",
       "    </tr>\n",
       "    <tr>\n",
       "      <th>1</th>\n",
       "      <td>14304</td>\n",
       "      <td>5.166667</td>\n",
       "      <td>49</td>\n",
       "      <td>1.0</td>\n",
       "      <td>2974.0</td>\n",
       "      <td>1806.0</td>\n",
       "      <td>5122.0</td>\n",
       "      <td>3011.0</td>\n",
       "      <td>1859.0</td>\n",
       "      <td>5007.0</td>\n",
       "      <td>...</td>\n",
       "      <td>0</td>\n",
       "      <td>1</td>\n",
       "      <td>0</td>\n",
       "      <td>0</td>\n",
       "      <td>0</td>\n",
       "      <td>0</td>\n",
       "      <td>0</td>\n",
       "      <td>0</td>\n",
       "      <td>1</td>\n",
       "      <td>0</td>\n",
       "    </tr>\n",
       "    <tr>\n",
       "      <th>2</th>\n",
       "      <td>5437</td>\n",
       "      <td>7.200000</td>\n",
       "      <td>49</td>\n",
       "      <td>1.0</td>\n",
       "      <td>1905.0</td>\n",
       "      <td>1437.0</td>\n",
       "      <td>2598.0</td>\n",
       "      <td>1921.0</td>\n",
       "      <td>1439.0</td>\n",
       "      <td>2651.0</td>\n",
       "      <td>...</td>\n",
       "      <td>0</td>\n",
       "      <td>1</td>\n",
       "      <td>0</td>\n",
       "      <td>0</td>\n",
       "      <td>0</td>\n",
       "      <td>0</td>\n",
       "      <td>1</td>\n",
       "      <td>0</td>\n",
       "      <td>0</td>\n",
       "      <td>0</td>\n",
       "    </tr>\n",
       "    <tr>\n",
       "      <th>3</th>\n",
       "      <td>5710</td>\n",
       "      <td>7.083333</td>\n",
       "      <td>49</td>\n",
       "      <td>1.0</td>\n",
       "      <td>2181.0</td>\n",
       "      <td>1474.0</td>\n",
       "      <td>3350.0</td>\n",
       "      <td>2115.0</td>\n",
       "      <td>1458.0</td>\n",
       "      <td>3133.0</td>\n",
       "      <td>...</td>\n",
       "      <td>0</td>\n",
       "      <td>1</td>\n",
       "      <td>0</td>\n",
       "      <td>0</td>\n",
       "      <td>0</td>\n",
       "      <td>0</td>\n",
       "      <td>1</td>\n",
       "      <td>0</td>\n",
       "      <td>0</td>\n",
       "      <td>0</td>\n",
       "    </tr>\n",
       "    <tr>\n",
       "      <th>4</th>\n",
       "      <td>13577</td>\n",
       "      <td>9.000000</td>\n",
       "      <td>11</td>\n",
       "      <td>11.0</td>\n",
       "      <td>3121.0</td>\n",
       "      <td>1634.0</td>\n",
       "      <td>6066.0</td>\n",
       "      <td>3634.0</td>\n",
       "      <td>1840.0</td>\n",
       "      <td>7340.0</td>\n",
       "      <td>...</td>\n",
       "      <td>0</td>\n",
       "      <td>0</td>\n",
       "      <td>1</td>\n",
       "      <td>0</td>\n",
       "      <td>1</td>\n",
       "      <td>0</td>\n",
       "      <td>0</td>\n",
       "      <td>0</td>\n",
       "      <td>0</td>\n",
       "      <td>0</td>\n",
       "    </tr>\n",
       "  </tbody>\n",
       "</table>\n",
       "<p>5 rows × 36 columns</p>\n",
       "</div>"
      ],
      "text/plain": [
       "   ride_id  travel_time  max_capacity  number_of_ticket  daily_mean  \\\n",
       "0     1442     7.250000            49               1.0      2734.0   \n",
       "1    14304     5.166667            49               1.0      2974.0   \n",
       "2     5437     7.200000            49               1.0      1905.0   \n",
       "3     5710     7.083333            49               1.0      2181.0   \n",
       "4    13577     9.000000            11              11.0      3121.0   \n",
       "\n",
       "   daily_min  daily_max  tf_mean  tf_min  tf_max   ...     travel_from_Sori  \\\n",
       "0     1947.0     4061.0   2978.0  2014.0  4864.0   ...                    0   \n",
       "1     1806.0     5122.0   3011.0  1859.0  5007.0   ...                    0   \n",
       "2     1437.0     2598.0   1921.0  1439.0  2651.0   ...                    0   \n",
       "3     1474.0     3350.0   2115.0  1458.0  3133.0   ...                    0   \n",
       "4     1634.0     6066.0   3634.0  1840.0  7340.0   ...                    0   \n",
       "\n",
       "   car_type_Bus  car_type_shuttle  day_Fri  day_Mon  day_Sat  day_Sun  \\\n",
       "0             1                 0        0        0        0        0   \n",
       "1             1                 0        0        0        0        0   \n",
       "2             1                 0        0        0        0        1   \n",
       "3             1                 0        0        0        0        1   \n",
       "4             0                 1        0        1        0        0   \n",
       "\n",
       "   day_Thur  day_Tue  day_Wed  \n",
       "0         0        1        0  \n",
       "1         0        1        0  \n",
       "2         0        0        0  \n",
       "3         0        0        0  \n",
       "4         0        0        0  \n",
       "\n",
       "[5 rows x 36 columns]"
      ]
     },
     "execution_count": 2,
     "metadata": {},
     "output_type": "execute_result"
    }
   ],
   "source": [
    "# Reading in the data including uber data\n",
    "data=pd.read_csv('data_uber.csv')\n",
    "data.head()"
   ]
  },
  {
   "cell_type": "code",
   "execution_count": 3,
   "metadata": {},
   "outputs": [],
   "source": [
    "# Separating out the original train and test set from the source data\n",
    "train_X = data[data['number_of_ticket'].notnull()]\n",
    "train_y = train_X['number_of_ticket']\n",
    "del train_X['number_of_ticket']\n",
    "del train_X['ride_id']\n",
    "\n",
    "# Creating the test set\n",
    "test_X =  data[data['number_of_ticket'].isnull()]\n",
    "# creating a series for test_X ride_id to use when creating submissions\n",
    "ride_id_df = test_X['ride_id']\n",
    "del test_X['number_of_ticket']\n",
    "del test_X['ride_id']"
   ]
  },
  {
   "cell_type": "code",
   "execution_count": 4,
   "metadata": {},
   "outputs": [
    {
     "name": "stdout",
     "output_type": "stream",
     "text": [
      "(6249, 34)\n",
      "(6249,)\n",
      "(1111, 34)\n"
     ]
    }
   ],
   "source": [
    "print(train_X.shape)\n",
    "print(train_y.shape)\n",
    "print(test_X.shape)"
   ]
  },
  {
   "cell_type": "markdown",
   "metadata": {},
   "source": [
    "# Building the model - Random forests out of box"
   ]
  },
  {
   "cell_type": "code",
   "execution_count": 5,
   "metadata": {},
   "outputs": [
    {
     "data": {
      "text/plain": [
       "RandomForestRegressor(bootstrap=True, criterion='mae', max_depth=None,\n",
       "           max_features='auto', max_leaf_nodes=None,\n",
       "           min_impurity_decrease=0.0, min_impurity_split=None,\n",
       "           min_samples_leaf=1, min_samples_split=2,\n",
       "           min_weight_fraction_leaf=0.0, n_estimators=10, n_jobs=1,\n",
       "           oob_score=False, random_state=1, verbose=0, warm_start=False)"
      ]
     },
     "execution_count": 5,
     "metadata": {},
     "output_type": "execute_result"
    }
   ],
   "source": [
    "# Name and set parameters for the model out of the box - in theis case a random forest\n",
    "forest_model = RandomForestRegressor(random_state=1, criterion ='mae')\n",
    "# Fit the model to the training data\n",
    "forest_model.fit(train_X, train_y)"
   ]
  },
  {
   "cell_type": "code",
   "execution_count": 6,
   "metadata": {},
   "outputs": [
    {
     "name": "stdout",
     "output_type": "stream",
     "text": [
      "The predictions of the first five rows are [17.5   1.2   7.2   2.    9.65]\n"
     ]
    }
   ],
   "source": [
    "# Making predictions for the first few rows of the training set or sanity check\n",
    "print(\"The predictions of the first five rows are\", forest_model.predict(train_X.head()))"
   ]
  },
  {
   "cell_type": "code",
   "execution_count": 7,
   "metadata": {},
   "outputs": [
    {
     "name": "stdout",
     "output_type": "stream",
     "text": [
      "mae: run on full training set 1.569323091694671\n",
      "train score: 0.9011774775167772\n"
     ]
    }
   ],
   "source": [
    "# Now run the model on the training set and see what it predicts\n",
    "forest_model_preds = forest_model.predict(train_X)\n",
    "# Compare the predctions with the actual training values using mae as specified int he competition\n",
    "print ('mae: run on full training set',mean_absolute_error(forest_model_preds, train_y))\n",
    "# generated score - level of accuracy \n",
    "print ('train score:', forest_model.score( train_X , train_y ))"
   ]
  },
  {
   "cell_type": "code",
   "execution_count": null,
   "metadata": {},
   "outputs": [],
   "source": []
  },
  {
   "cell_type": "code",
   "execution_count": 8,
   "metadata": {},
   "outputs": [],
   "source": [
    "# Run the model on the Zindi test set \n",
    "forest_model_pred_y = forest_model.predict(test_X)"
   ]
  },
  {
   "cell_type": "code",
   "execution_count": 9,
   "metadata": {},
   "outputs": [
    {
     "data": {
      "text/html": [
       "<div>\n",
       "<style scoped>\n",
       "    .dataframe tbody tr th:only-of-type {\n",
       "        vertical-align: middle;\n",
       "    }\n",
       "\n",
       "    .dataframe tbody tr th {\n",
       "        vertical-align: top;\n",
       "    }\n",
       "\n",
       "    .dataframe thead th {\n",
       "        text-align: right;\n",
       "    }\n",
       "</style>\n",
       "<table border=\"1\" class=\"dataframe\">\n",
       "  <thead>\n",
       "    <tr style=\"text-align: right;\">\n",
       "      <th></th>\n",
       "      <th>ride_id</th>\n",
       "      <th>number_of_ticket</th>\n",
       "    </tr>\n",
       "  </thead>\n",
       "  <tbody>\n",
       "    <tr>\n",
       "      <th>6249</th>\n",
       "      <td>13856</td>\n",
       "      <td>20.0</td>\n",
       "    </tr>\n",
       "    <tr>\n",
       "      <th>6250</th>\n",
       "      <td>13857</td>\n",
       "      <td>2.5</td>\n",
       "    </tr>\n",
       "    <tr>\n",
       "      <th>6251</th>\n",
       "      <td>13847</td>\n",
       "      <td>5.5</td>\n",
       "    </tr>\n",
       "    <tr>\n",
       "      <th>6252</th>\n",
       "      <td>13859</td>\n",
       "      <td>8.7</td>\n",
       "    </tr>\n",
       "    <tr>\n",
       "      <th>6253</th>\n",
       "      <td>13855</td>\n",
       "      <td>11.7</td>\n",
       "    </tr>\n",
       "  </tbody>\n",
       "</table>\n",
       "</div>"
      ],
      "text/plain": [
       "      ride_id  number_of_ticket\n",
       "6249    13856              20.0\n",
       "6250    13857               2.5\n",
       "6251    13847               5.5\n",
       "6252    13859               8.7\n",
       "6253    13855              11.7"
      ]
     },
     "execution_count": 9,
     "metadata": {},
     "output_type": "execute_result"
    }
   ],
   "source": [
    "# creating the csv\n",
    "submission_data = {'ride_id': ride_id_df, 'number_of_ticket': forest_model_pred_y}\n",
    "submission_data = pd.DataFrame(data=submission_data)\n",
    "submission_data = submission_data[['ride_id','number_of_ticket']]\n",
    "submission_data.head()"
   ]
  },
  {
   "cell_type": "code",
   "execution_count": 10,
   "metadata": {},
   "outputs": [],
   "source": [
    "submission_data.to_csv('nairobi_uber_rf0.csv', index=False) #save to csv file"
   ]
  },
  {
   "cell_type": "code",
   "execution_count": 11,
   "metadata": {},
   "outputs": [],
   "source": [
    "# date 7/11/18\n",
    "# Results on Zindi 4.1805\n",
    "# Position\n",
    "# Learning points"
   ]
  },
  {
   "cell_type": "markdown",
   "metadata": {},
   "source": [
    "# Creating a single validation set from within the training set."
   ]
  },
  {
   "cell_type": "code",
   "execution_count": 13,
   "metadata": {},
   "outputs": [
    {
     "name": "stdout",
     "output_type": "stream",
     "text": [
      "(4999, 34) (4999,)\n",
      "(1250, 34) (1250,)\n"
     ]
    }
   ],
   "source": [
    "# set the validation model with train_v_X being the training element, valied_X being the test element and same for y\n",
    "# http://scikit-learn.org/stable/modules/generated/sklearn.model_selection.train_test_split.html\n",
    "train_v_X , test_v_X , train_v_y , test_v_y = train_test_split( train_X , train_y , test_size = .2, random_state=0 )\n",
    "# Printing the shape of the\n",
    "print( train_v_X.shape, train_v_y.shape)\n",
    "print (test_v_X.shape, test_v_y.shape)"
   ]
  },
  {
   "cell_type": "code",
   "execution_count": 14,
   "metadata": {},
   "outputs": [],
   "source": [
    "# Creat a new model (forest_model1) based on the validation training set to test on validation set\n",
    "# Name and set parameters for the model out of the box - in theis case a random forest\n",
    "forest_model1 = RandomForestRegressor(random_state=1, criterion ='mae')"
   ]
  },
  {
   "cell_type": "code",
   "execution_count": 15,
   "metadata": {},
   "outputs": [
    {
     "data": {
      "text/plain": [
       "RandomForestRegressor(bootstrap=True, criterion='mae', max_depth=None,\n",
       "           max_features='auto', max_leaf_nodes=None,\n",
       "           min_impurity_decrease=0.0, min_impurity_split=None,\n",
       "           min_samples_leaf=1, min_samples_split=2,\n",
       "           min_weight_fraction_leaf=0.0, n_estimators=10, n_jobs=1,\n",
       "           oob_score=False, random_state=1, verbose=0, warm_start=False)"
      ]
     },
     "execution_count": 15,
     "metadata": {},
     "output_type": "execute_result"
    }
   ],
   "source": [
    "# Fit the random forest model to the train validation data\n",
    "forest_model1.fit(train_v_X, train_v_y)"
   ]
  },
  {
   "cell_type": "code",
   "execution_count": 16,
   "metadata": {},
   "outputs": [
    {
     "data": {
      "text/plain": [
       "array([18.9,  3.7,  2.1,  4. ,  2.2])"
      ]
     },
     "execution_count": 16,
     "metadata": {},
     "output_type": "execute_result"
    }
   ],
   "source": [
    "# How did the model perform on the test valudation data\n",
    "forest_model1_val_preds = forest_model1.predict(test_v_X)\n",
    "forest_model1_val_preds[0:5]"
   ]
  },
  {
   "cell_type": "code",
   "execution_count": 17,
   "metadata": {},
   "outputs": [
    {
     "name": "stdout",
     "output_type": "stream",
     "text": [
      "mae between validation results and validation test data: 3.62788\n",
      "validation test score: 0.5292437509665859\n"
     ]
    }
   ],
   "source": [
    "# Compare the predctions with the validation test results ie test_v_y\n",
    "print ('mae between validation results and validation test data:',mean_absolute_error(forest_model1_val_preds, test_v_y))\n",
    "# generated score - level of accuracy but not sure how its measured\n",
    "print ('validation test score:', forest_model1.score( test_v_X , test_v_y ))"
   ]
  },
  {
   "cell_type": "code",
   "execution_count": null,
   "metadata": {},
   "outputs": [],
   "source": []
  },
  {
   "cell_type": "code",
   "execution_count": 18,
   "metadata": {},
   "outputs": [],
   "source": [
    "# Running on the final Zindi set\n",
    "# Run the model on the test set \n",
    "forest_model1_pred_y = forest_model1.predict(test_X)"
   ]
  },
  {
   "cell_type": "code",
   "execution_count": 19,
   "metadata": {},
   "outputs": [
    {
     "data": {
      "text/html": [
       "<div>\n",
       "<style scoped>\n",
       "    .dataframe tbody tr th:only-of-type {\n",
       "        vertical-align: middle;\n",
       "    }\n",
       "\n",
       "    .dataframe tbody tr th {\n",
       "        vertical-align: top;\n",
       "    }\n",
       "\n",
       "    .dataframe thead th {\n",
       "        text-align: right;\n",
       "    }\n",
       "</style>\n",
       "<table border=\"1\" class=\"dataframe\">\n",
       "  <thead>\n",
       "    <tr style=\"text-align: right;\">\n",
       "      <th></th>\n",
       "      <th>ride_id</th>\n",
       "      <th>number_of_ticket</th>\n",
       "    </tr>\n",
       "  </thead>\n",
       "  <tbody>\n",
       "    <tr>\n",
       "      <th>6249</th>\n",
       "      <td>13856</td>\n",
       "      <td>17.7</td>\n",
       "    </tr>\n",
       "    <tr>\n",
       "      <th>6250</th>\n",
       "      <td>13857</td>\n",
       "      <td>4.8</td>\n",
       "    </tr>\n",
       "    <tr>\n",
       "      <th>6251</th>\n",
       "      <td>13847</td>\n",
       "      <td>4.4</td>\n",
       "    </tr>\n",
       "    <tr>\n",
       "      <th>6252</th>\n",
       "      <td>13859</td>\n",
       "      <td>8.6</td>\n",
       "    </tr>\n",
       "    <tr>\n",
       "      <th>6253</th>\n",
       "      <td>13855</td>\n",
       "      <td>10.4</td>\n",
       "    </tr>\n",
       "  </tbody>\n",
       "</table>\n",
       "</div>"
      ],
      "text/plain": [
       "      ride_id  number_of_ticket\n",
       "6249    13856              17.7\n",
       "6250    13857               4.8\n",
       "6251    13847               4.4\n",
       "6252    13859               8.6\n",
       "6253    13855              10.4"
      ]
     },
     "execution_count": 19,
     "metadata": {},
     "output_type": "execute_result"
    }
   ],
   "source": [
    "# creating the csv\n",
    "submission_data = {'ride_id': ride_id_df, 'number_of_ticket': forest_model1_pred_y}\n",
    "submission_data = pd.DataFrame(data=submission_data)\n",
    "submission_data = submission_data[['ride_id','number_of_ticket']]\n",
    "submission_data.head()"
   ]
  },
  {
   "cell_type": "code",
   "execution_count": 20,
   "metadata": {},
   "outputs": [],
   "source": [
    "submission_data.to_csv('predictions2_rf1_validation.csv', index=False) #save to csv file"
   ]
  },
  {
   "cell_type": "code",
   "execution_count": 21,
   "metadata": {},
   "outputs": [
    {
     "name": "stdout",
     "output_type": "stream",
     "text": [
      "Model 0: mae on self 1.569323091694671\n",
      "Model 1: mae on validation data 3.62788\n",
      "Model 1: train score / test score 0.8967692061262742 0.5292437509665859\n"
     ]
    }
   ],
   "source": [
    "print('Model 0: mae on self', mean_absolute_error(forest_model_preds, train_y))\n",
    "# print ('Model 0: train score / test score', forest_model.score( forest_model_preds, train_y ))\n",
    "print('Model 1: mae on validation data', mean_absolute_error(forest_model1_val_preds, test_v_y))\n",
    "print ('Model 1: train score / test score', forest_model1.score( train_v_X , train_v_y ) , forest_model1.score( test_v_X , test_v_y ))"
   ]
  },
  {
   "cell_type": "code",
   "execution_count": 22,
   "metadata": {},
   "outputs": [],
   "source": [
    "# Results on Zindi\n",
    "# Position\n",
    "# Learning points\n",
    "# Comments: \n",
    "# The scores based on validation data were lower than those acheived when tested on itself suggesting\n",
    "# overfitting in the first test above. This is to be expected considering its tested on itself. \n",
    "# Otherwise results were quite reasonable\n",
    "\n",
    "# Results of running the model on Zindi were lower than achieved using full training set as based on a smaller sample. As expected."
   ]
  },
  {
   "cell_type": "markdown",
   "metadata": {},
   "source": [
    "### Exploring the effect of a few variable tweaks and graphing them\n",
    " https://medium.com/all-things-ai/in-depth-parameter-tuning-for-random-forest-d67bb7e920d"
   ]
  },
  {
   "cell_type": "markdown",
   "metadata": {},
   "source": [
    "## max-leaf nodes"
   ]
  },
  {
   "cell_type": "code",
   "execution_count": 23,
   "metadata": {},
   "outputs": [
    {
     "data": {
      "image/png": "[encoded data removed]",
      "text/plain": [
       "<Figure size 432x288 with 1 Axes>"
      ]
     },
     "metadata": {},
     "output_type": "display_data"
    }
   ],
   "source": [
    "# estimators we want to try\n",
    "max_leaf_node = [ 180, 185, 190, 195, 200, 205, 210, 215, 220 ]\n",
    "# empty list for results\n",
    "train_results = []\n",
    "test_results = []\n",
    "# for loop to fit the rf regressor to each n_estimator, generate a training and testing score\n",
    "for node in max_leaf_node:\n",
    "    forest_model4 = RandomForestRegressor(max_leaf_nodes=node, n_jobs=-1, random_state=0, criterion ='mae')\n",
    "    forest_model4.fit(train_v_X, train_v_y)\n",
    "    train_pred = forest_model4.predict(train_v_X)\n",
    "    my_train_mae = mean_absolute_error(train_v_y, train_pred)\n",
    "    train_results.append(my_train_mae)\n",
    "    y_pred = forest_model4.predict(test_v_X)\n",
    "    my_test_mae = mean_absolute_error(test_v_y, y_pred)\n",
    "    test_results.append(my_test_mae)\n",
    "# Plot the results\n",
    "from matplotlib.legend_handler import HandlerLine2D\n",
    "line1, = plt.plot(max_leaf_node, train_results, 'b', label='Train mae')\n",
    "line2, = plt.plot(max_leaf_node, test_results, 'r', label='Test mae')\n",
    "plt.legend(handler_map={line1: HandlerLine2D(numpoints=2)})\n",
    "plt.ylabel('mae')\n",
    "plt.xlabel('max leaf nodes')\n",
    "plt.show()\n",
    "# 200 looks to be optimal"
   ]
  },
  {
   "cell_type": "markdown",
   "metadata": {},
   "source": [
    "# N-estimators"
   ]
  },
  {
   "cell_type": "code",
   "execution_count": 24,
   "metadata": {},
   "outputs": [
    {
     "data": {
      "image/png": "[encoded data removed]",
      "text/plain": [
       "<Figure size 432x288 with 1 Axes>"
      ]
     },
     "metadata": {},
     "output_type": "display_data"
    }
   ],
   "source": [
    "# n_estimators represents the number of trees in the forest. \n",
    "# Usually the higher the number of trees the better to learn the data. \n",
    "# However, adding a lot of trees can slow down the training process considerably, \n",
    "# therefore we do a parameter search to find the sweet spot\n",
    "\n",
    "# estimators we want to try\n",
    "n_estimators = [1, 10, 20, 30, 40, 50]\n",
    "# empty list for results\n",
    "train_results = []\n",
    "test_results = []\n",
    "# for loop to fit the rf regressor to each n_estimator, generate a training and testing score\n",
    "for estimator in n_estimators:\n",
    "    rf = RandomForestRegressor(n_estimators=estimator, n_jobs=-1, random_state=0, criterion ='mae', max_leaf_nodes = 200)\n",
    "    rf.fit(train_v_X, train_v_y)\n",
    "    train_pred = rf.predict(train_v_X)\n",
    "    my_train_mae = mean_absolute_error(train_v_y, train_pred)\n",
    "    train_results.append(my_train_mae)\n",
    "    y_pred = rf.predict(test_v_X)\n",
    "    my_test_mae = mean_absolute_error(test_v_y, y_pred)\n",
    "    test_results.append(my_test_mae)\n",
    "# Plot the results\n",
    "from matplotlib.legend_handler import HandlerLine2D\n",
    "line1, = plt.plot(n_estimators, train_results, 'b', label='Train mae')\n",
    "line2, = plt.plot(n_estimators, test_results, 'r', label='Test mae')\n",
    "plt.legend(handler_map={line1: HandlerLine2D(numpoints=2)})\n",
    "plt.ylabel('mae')\n",
    "plt.xlabel('n_estimators')\n",
    "plt.show()\n",
    "\n",
    "# hard to say if it matters much but 20 looks good"
   ]
  },
  {
   "cell_type": "code",
   "execution_count": 26,
   "metadata": {},
   "outputs": [
    {
     "data": {
      "image/png": "[encoded data removed]",
      "text/plain": [
       "<Figure size 432x288 with 1 Axes>"
      ]
     },
     "metadata": {},
     "output_type": "display_data"
    }
   ],
   "source": [
    "# mean decrease_impurity\n",
    "decreases = [0, 0.1, 0.2, 0.4, 0.6, 0.8, 1]\n",
    "# empty list for results\n",
    "train_results = []\n",
    "test_results = []\n",
    "# for loop to fit the rf regressor to each n_estimator, generate a training and testing score\n",
    "for decrease in decreases:\n",
    "    rf = RandomForestRegressor(min_impurity_decrease=decrease, n_estimators =20, n_jobs=-1, random_state=0, criterion ='mae', max_leaf_nodes = 200)\n",
    "    rf.fit(train_v_X, train_v_y)\n",
    "    train_pred = rf.predict(train_v_X)\n",
    "    my_train_mae = mean_absolute_error(train_v_y, train_pred)\n",
    "    train_results.append(my_train_mae)\n",
    "    y_pred = rf.predict(test_v_X)\n",
    "    my_test_mae = mean_absolute_error(test_v_y, y_pred)\n",
    "    test_results.append(my_test_mae)\n",
    "# Plot the results\n",
    "from matplotlib.legend_handler import HandlerLine2D\n",
    "line1, = plt.plot(decreases, train_results, 'b', label='Train mae')\n",
    "line2, = plt.plot(decreases, test_results, 'r', label='Test mae')\n",
    "plt.legend(handler_map={line1: HandlerLine2D(numpoints=2)})\n",
    "plt.ylabel('mae')\n",
    "plt.xlabel('min impurity decrease')\n",
    "plt.show()\n",
    "\n"
   ]
  },
  {
   "cell_type": "markdown",
   "metadata": {},
   "source": [
    "## min_samples_split"
   ]
  },
  {
   "cell_type": "code",
   "execution_count": 27,
   "metadata": {},
   "outputs": [
    {
     "data": {
      "image/png": "[encoded data removed]",
      "text/plain": [
       "<Figure size 432x288 with 1 Axes>"
      ]
     },
     "metadata": {},
     "output_type": "display_data"
    }
   ],
   "source": [
    "# min_samples_split represents the minimum number of samples required to split an internal node. \n",
    "# This can vary between considering at least one sample at each node to considering all of the samples at each node. \n",
    "# When we increase this parameter, each tree in the forest becomes more constrained as it has to consider \n",
    "# more samples at each node. Here we will vary the parameter from 10% to 100% of the samples\n",
    "\n",
    "min_samples_splits = np.linspace(0.001, 0.02,10, endpoint=True)\n",
    "train_results = []\n",
    "test_results = []\n",
    "for min_samples_split in min_samples_splits:\n",
    "    rf = RandomForestRegressor(min_samples_split=min_samples_split, n_estimators=20, max_depth=None , max_leaf_nodes = 200, criterion ='mae')\n",
    "    rf.fit(train_v_X, train_v_y)\n",
    "    train_pred = rf.predict(train_v_X)\n",
    "    my_train_mae = mean_absolute_error(train_v_y, train_pred)\n",
    "    train_results.append(my_train_mae)\n",
    "    y_pred = rf.predict(test_v_X)\n",
    "    my_test_mae = mean_absolute_error(test_v_y, y_pred)\n",
    "    test_results.append(my_test_mae)\n",
    "from matplotlib.legend_handler import HandlerLine2D\n",
    "line1, = plt.plot(min_samples_splits, train_results, 'b', label='Train MAE')\n",
    "line2, = plt.plot(min_samples_splits, test_results, 'r', label='Test MAE')\n",
    "plt.legend(handler_map={line1: HandlerLine2D(numpoints=2)})\n",
    "plt.ylabel('MAE score')\n",
    "plt.xlabel('min samples split')\n",
    "plt.show()\n",
    "# Looks like 0.008 of sample is the minimum\n",
    "# In practice this should be set as 2, the minimum value allowed"
   ]
  },
  {
   "cell_type": "markdown",
   "metadata": {},
   "source": [
    "## max_depth"
   ]
  },
  {
   "cell_type": "code",
   "execution_count": 28,
   "metadata": {},
   "outputs": [
    {
     "data": {
      "image/png": "[encoded data removed]",
      "text/plain": [
       "<Figure size 432x288 with 1 Axes>"
      ]
     },
     "metadata": {},
     "output_type": "display_data"
    }
   ],
   "source": [
    "# max_depth represents the depth of each tree in the forest. \n",
    "# The deeper the tree, the more splits it has and it captures more information about the data. \n",
    "# We fit each decision tree with depths ranging from 1 to 32 and plot the training and test errors.\n",
    "\n",
    "max_depths = np.linspace(10, 20, 10, endpoint=True)\n",
    "train_results = []\n",
    "test_results = []\n",
    "for max_depth in max_depths:\n",
    "    rf = RandomForestRegressor(max_depth=max_depth, n_jobs=-1, random_state=0, n_estimators=20, max_leaf_nodes = 200, criterion ='mae')\n",
    "    rf.fit(train_v_X, train_v_y)\n",
    "    train_pred = rf.predict(train_v_X)\n",
    "    my_train_mae = mean_absolute_error(train_v_y, train_pred)\n",
    "    train_results.append(my_train_mae)\n",
    "    y_pred = rf.predict(test_v_X)\n",
    "    my_test_mae = mean_absolute_error(test_v_y, y_pred)\n",
    "    test_results.append(my_test_mae)\n",
    "from matplotlib.legend_handler import HandlerLine2D\n",
    "line1, = plt.plot(max_depths, train_results, 'b', label='train MAE')\n",
    "line2, = plt.plot(max_depths, test_results, 'r', label='Test MAE')\n",
    "plt.legend(handler_map={line1: HandlerLine2D(numpoints=2)})\n",
    "plt.ylabel('MAE score')\n",
    "plt.xlabel('Tree depth')\n",
    "plt.show()\n",
    "\n",
    "# 13 looks good enough"
   ]
  },
  {
   "cell_type": "markdown",
   "metadata": {},
   "source": [
    "## Using results from above to run full model"
   ]
  },
  {
   "cell_type": "code",
   "execution_count": 29,
   "metadata": {},
   "outputs": [
    {
     "data": {
      "text/plain": [
       "RandomForestRegressor(bootstrap=True, criterion='mae', max_depth=13,\n",
       "           max_features='auto', max_leaf_nodes=200,\n",
       "           min_impurity_decrease=0.0, min_impurity_split=None,\n",
       "           min_samples_leaf=1, min_samples_split=2,\n",
       "           min_weight_fraction_leaf=0.0, n_estimators=20, n_jobs=-1,\n",
       "           oob_score=False, random_state=0, verbose=0, warm_start=False)"
      ]
     },
     "execution_count": 29,
     "metadata": {},
     "output_type": "execute_result"
    }
   ],
   "source": [
    "forest_model5 = RandomForestRegressor(max_depth=13, n_jobs=-1, random_state=0, n_estimators=20, max_leaf_nodes = 200, criterion ='mae')\n",
    "forest_model5.fit(train_v_X, train_v_y)"
   ]
  },
  {
   "cell_type": "code",
   "execution_count": 30,
   "metadata": {},
   "outputs": [],
   "source": [
    "train_pred = rf.predict(train_v_X)"
   ]
  },
  {
   "cell_type": "code",
   "execution_count": 31,
   "metadata": {},
   "outputs": [],
   "source": [
    "forest_model5_y_pred = forest_model5.predict(test_v_X)"
   ]
  },
  {
   "cell_type": "code",
   "execution_count": 32,
   "metadata": {},
   "outputs": [
    {
     "name": "stdout",
     "output_type": "stream",
     "text": [
      "Model 5: mae on validation data 3.3099\n",
      "Model 5: train score / test score 0.711556371078421 0.5835351382306724\n"
     ]
    }
   ],
   "source": [
    "# print('Model 0: mae on self', mean_absolute_error(forest_model_preds, train_y))\n",
    "# print ('Model 0: train score / test score', forest_model.score( train_v_X , train_v_y ) , forest_model.score( test_v_X , test_v_y ))\n",
    "# print('Model 1: mae on validation data', mean_absolute_error(forest_model1_val_preds, test_v_y))\n",
    "# print ('Model 1: train score / test score', forest_model1.score( train_v_X , train_v_y ) , forest_model1.score( test_v_X , test_v_y ))\n",
    "# # print('Model 2: mae on self', mean_absolute_error(forest_model2_preds, train_y))\n",
    "# # print ('Model 2: train score / test score', forest_model2.score( train_v_X , train_v_y ) , forest_model2.score( test_v_X , test_v_y ))\n",
    "# print('Model 3: mae on validation data', mean_absolute_error(forest_model3_preds, test_v_y))\n",
    "# print ('Model 3: train score / test score', forest_model3.score( train_v_X , train_v_y ) , forest_model3.score( test_v_X , test_v_y ))\n",
    "print('Model 5: mae on validation data', mean_absolute_error(forest_model5_y_pred, test_v_y))\n",
    "print ('Model 5: train score / test score', forest_model5.score( train_v_X , train_v_y ) , forest_model5.score( test_v_X , test_v_y ))"
   ]
  },
  {
   "cell_type": "markdown",
   "metadata": {},
   "source": [
    "# Introducing a randomizedsearchcv - on validation training set only"
   ]
  },
  {
   "cell_type": "code",
   "execution_count": 33,
   "metadata": {},
   "outputs": [],
   "source": [
    "# https://chrisalbon.com/machine_learning/model_selection/hyperparameter_tuning_using_random_search/"
   ]
  },
  {
   "cell_type": "code",
   "execution_count": 34,
   "metadata": {},
   "outputs": [],
   "source": [
    "#setting the hyperparameters to  use in the gridsearch\n",
    "# Format for setting hperparamets is using a python dictionary with the hyperparamter names given and the  teh balues are lists\n",
    "# of settings to try\n",
    "hyperparameters = { # maximum depth of the tree\n",
    "                    'max_depth': [13, 15, 20, None],\n",
    "                    # NUmber of features to consider when looking for he best split\n",
    "                   'max_features': ['auto', 'sqrt', 'log2'],\n",
    "                    # Not sure what this means, it relatest o purity\n",
    "                   'max_leaf_nodes': [ 250, 500, 1000, None],\n",
    "                   # NUmber of trees in the forest\n",
    "                   'n_estimators': [ 30, 50, 100, 1000], \n",
    "                   # Number of processes to run simultaneously, -1 means use as many processors as there are \n",
    "                   'n_jobs': [-1],\n",
    "                    }"
   ]
  },
  {
   "cell_type": "code",
   "execution_count": null,
   "metadata": {},
   "outputs": [],
   "source": []
  },
  {
   "cell_type": "code",
   "execution_count": 35,
   "metadata": {},
   "outputs": [],
   "source": [
    "forest_model6 = RandomForestRegressor(random_state=1, n_jobs=-1, criterion='mae')"
   ]
  },
  {
   "cell_type": "code",
   "execution_count": 36,
   "metadata": {},
   "outputs": [],
   "source": [
    "# Create randomized search 5-fold cross validation and 100 iterations\n",
    "rscv = RandomizedSearchCV(forest_model6, hyperparameters, random_state=1, cv=8, verbose=0, n_jobs=-1)"
   ]
  },
  {
   "cell_type": "code",
   "execution_count": 37,
   "metadata": {},
   "outputs": [],
   "source": [
    "# Fit randomized search\n",
    "forest_model7 = rscv.fit(train_v_X, train_v_y)"
   ]
  },
  {
   "cell_type": "code",
   "execution_count": 38,
   "metadata": {},
   "outputs": [
    {
     "name": "stdout",
     "output_type": "stream",
     "text": [
      "Best parameter {'bootstrap': True, 'criterion': 'mae', 'max_depth': 13, 'max_features': 'auto', 'max_leaf_nodes': 1000, 'min_impurity_decrease': 0.0, 'min_impurity_split': None, 'min_samples_leaf': 1, 'min_samples_split': 2, 'min_weight_fraction_leaf': 0.0, 'n_estimators': 1000, 'n_jobs': -1, 'oob_score': False, 'random_state': 1, 'verbose': 0, 'warm_start': False}\n"
     ]
    }
   ],
   "source": [
    "print('Best parameter', forest_model7.best_estimator_.get_params())"
   ]
  },
  {
   "cell_type": "code",
   "execution_count": null,
   "metadata": {},
   "outputs": [],
   "source": []
  },
  {
   "cell_type": "code",
   "execution_count": 40,
   "metadata": {},
   "outputs": [],
   "source": [
    "# Predict training set results\n",
    "forest_model7_v_train_preds = forest_model7.predict(train_v_X)"
   ]
  },
  {
   "cell_type": "code",
   "execution_count": 41,
   "metadata": {},
   "outputs": [
    {
     "name": "stdout",
     "output_type": "stream",
     "text": [
      "mae between validation results and validation test data: 2.37452300460092\n",
      "validation test score: 0.780137481136187\n"
     ]
    }
   ],
   "source": [
    "# Compare the predctions with the validation test results ie test_v_y\n",
    "print ('mae between validation results and validation test data:',mean_absolute_error(forest_model7_v_train_preds, train_v_y))\n",
    "# generated score - level of accuracy but not sure how its measured\n",
    "print ('validation test score:', forest_model7.score( train_v_X , train_v_y ))"
   ]
  },
  {
   "cell_type": "code",
   "execution_count": 42,
   "metadata": {},
   "outputs": [],
   "source": [
    "# Now run the model on the validation set \n",
    "forest_model7_v_test_preds = forest_model7.predict(test_v_X)"
   ]
  },
  {
   "cell_type": "code",
   "execution_count": 43,
   "metadata": {},
   "outputs": [
    {
     "name": "stdout",
     "output_type": "stream",
     "text": [
      "Model 5: mae on validation data 3.3099\n",
      "Model 5: train score / test score 0.711556371078421 0.5835351382306724\n",
      "Model 7: mae on validation train data 2.37452300460092\n",
      "Model 7: mae on validation test data 3.3596199999999996\n",
      "Model 7: train score / test score 0.780137481136187 0.5910192656791344\n"
     ]
    }
   ],
   "source": [
    "print('Model 5: mae on validation data', mean_absolute_error(forest_model5_y_pred, test_v_y))\n",
    "print ('Model 5: train score / test score', forest_model5.score( train_v_X , train_v_y ) , forest_model5.score( test_v_X , test_v_y ))\n",
    "# Model 6 is just a blank canvas to enter into the cross validation randomiser\n",
    "print('Model 7: mae on validation train data', mean_absolute_error(forest_model7_v_train_preds, train_v_y))\n",
    "print('Model 7: mae on validation test data', mean_absolute_error(forest_model7_v_test_preds, test_v_y))\n",
    "print ('Model 7: train score / test score', forest_model7.score( train_v_X , train_v_y ) , forest_model7.score( test_v_X , test_v_y ))"
   ]
  },
  {
   "cell_type": "markdown",
   "metadata": {},
   "source": [
    "## Running on the full set using model7"
   ]
  },
  {
   "cell_type": "code",
   "execution_count": 52,
   "metadata": {},
   "outputs": [],
   "source": [
    "# Running on the final Zindi set\n",
    "# Run the model on the test set \n",
    "forest_model7_pred_y = forest_model7.predict(test_X)"
   ]
  },
  {
   "cell_type": "code",
   "execution_count": 53,
   "metadata": {},
   "outputs": [
    {
     "data": {
      "text/html": [
       "<div>\n",
       "<style scoped>\n",
       "    .dataframe tbody tr th:only-of-type {\n",
       "        vertical-align: middle;\n",
       "    }\n",
       "\n",
       "    .dataframe tbody tr th {\n",
       "        vertical-align: top;\n",
       "    }\n",
       "\n",
       "    .dataframe thead th {\n",
       "        text-align: right;\n",
       "    }\n",
       "</style>\n",
       "<table border=\"1\" class=\"dataframe\">\n",
       "  <thead>\n",
       "    <tr style=\"text-align: right;\">\n",
       "      <th></th>\n",
       "      <th>ride_id</th>\n",
       "      <th>number_of_ticket</th>\n",
       "    </tr>\n",
       "  </thead>\n",
       "  <tbody>\n",
       "    <tr>\n",
       "      <th>6249</th>\n",
       "      <td>13856</td>\n",
       "      <td>20.3715</td>\n",
       "    </tr>\n",
       "    <tr>\n",
       "      <th>6250</th>\n",
       "      <td>13857</td>\n",
       "      <td>3.1495</td>\n",
       "    </tr>\n",
       "    <tr>\n",
       "      <th>6251</th>\n",
       "      <td>13847</td>\n",
       "      <td>4.9745</td>\n",
       "    </tr>\n",
       "    <tr>\n",
       "      <th>6252</th>\n",
       "      <td>13859</td>\n",
       "      <td>9.1735</td>\n",
       "    </tr>\n",
       "    <tr>\n",
       "      <th>6253</th>\n",
       "      <td>13855</td>\n",
       "      <td>7.7550</td>\n",
       "    </tr>\n",
       "  </tbody>\n",
       "</table>\n",
       "</div>"
      ],
      "text/plain": [
       "      ride_id  number_of_ticket\n",
       "6249    13856           20.3715\n",
       "6250    13857            3.1495\n",
       "6251    13847            4.9745\n",
       "6252    13859            9.1735\n",
       "6253    13855            7.7550"
      ]
     },
     "execution_count": 53,
     "metadata": {},
     "output_type": "execute_result"
    }
   ],
   "source": [
    "# creating the csv\n",
    "submission_data = {'ride_id': ride_id_df, 'number_of_ticket': forest_model7_pred_y}\n",
    "submission_data = pd.DataFrame(data=submission_data)\n",
    "submission_data = submission_data[['ride_id','number_of_ticket']]\n",
    "submission_data.head()"
   ]
  },
  {
   "cell_type": "code",
   "execution_count": 54,
   "metadata": {},
   "outputs": [],
   "source": [
    "submission_data.to_csv('nairobi_uber_rf_7.csv', index=False) #save to csv file"
   ]
  },
  {
   "cell_type": "code",
   "execution_count": null,
   "metadata": {},
   "outputs": [],
   "source": [
    "# Zindi score for forest_model7 3.9275"
   ]
  },
  {
   "cell_type": "markdown",
   "metadata": {},
   "source": [
    "# Introducing a randomizedsearchcv - on all the data forest_model8"
   ]
  },
  {
   "cell_type": "code",
   "execution_count": 45,
   "metadata": {},
   "outputs": [],
   "source": [
    "#setting the hyperparameters to  use in the gridsearch\n",
    "# Format for setting hperparamets is using a python dictionary with the hyperparamter names given and the  teh balues are lists\n",
    "# of settings to try\n",
    "hyperparameters = { # maximum depth of the tree\n",
    "                    'max_depth': [13, 15,20, None],\n",
    "                    # NUmber of features to consider when looking for he best split\n",
    "                   'max_features': ['auto', 'sqrt', 'log2'],\n",
    "                    # Not sure what this means, it relatest o purity\n",
    "                   'max_leaf_nodes': [200, 250, 300, 350, None],\n",
    "                   # NUmber of trees in the forest\n",
    "                   'n_estimators': [ 25, 27, 30, 100, 1000], \n",
    "                   # Number of processes to run simultaneously, -1 means use as many processors as there are \n",
    "                   'n_jobs': [-1],\n",
    "                    }"
   ]
  },
  {
   "cell_type": "code",
   "execution_count": 46,
   "metadata": {},
   "outputs": [],
   "source": [
    "forest_model6 = RandomForestRegressor(random_state=1, n_jobs=-1, criterion='mae')"
   ]
  },
  {
   "cell_type": "code",
   "execution_count": 47,
   "metadata": {},
   "outputs": [],
   "source": [
    "# Create randomized search 5-fold cross validation and 100 iterations\n",
    "rscv = RandomizedSearchCV(forest_model6, hyperparameters, random_state=1, cv=8, verbose=0, n_jobs=-1)"
   ]
  },
  {
   "cell_type": "code",
   "execution_count": 48,
   "metadata": {},
   "outputs": [],
   "source": [
    "# Fit randomized search\n",
    "forest_model8 = rscv.fit(train_X, train_y)"
   ]
  },
  {
   "cell_type": "code",
   "execution_count": 49,
   "metadata": {},
   "outputs": [
    {
     "name": "stdout",
     "output_type": "stream",
     "text": [
      "Best parameter {'bootstrap': True, 'criterion': 'mae', 'max_depth': 20, 'max_features': 'log2', 'max_leaf_nodes': 300, 'min_impurity_decrease': 0.0, 'min_impurity_split': None, 'min_samples_leaf': 1, 'min_samples_split': 2, 'min_weight_fraction_leaf': 0.0, 'n_estimators': 100, 'n_jobs': -1, 'oob_score': False, 'random_state': 1, 'verbose': 0, 'warm_start': False}\n"
     ]
    }
   ],
   "source": [
    "print('Best parameter', forest_model8.best_estimator_.get_params())"
   ]
  },
  {
   "cell_type": "code",
   "execution_count": 50,
   "metadata": {},
   "outputs": [],
   "source": [
    "# Predict training set results\n",
    "forest_model8_train_preds = forest_model8.predict(train_X)"
   ]
  },
  {
   "cell_type": "code",
   "execution_count": 51,
   "metadata": {},
   "outputs": [
    {
     "name": "stdout",
     "output_type": "stream",
     "text": [
      "mae between validation results and validation test data: 3.2370267242758843\n",
      "validation test score: 0.6455166147995436\n"
     ]
    }
   ],
   "source": [
    "# Compare the predctions with the validation test results ie test_v_y\n",
    "print ('mae between validation results and validation test data:',mean_absolute_error(forest_model8_train_preds, train_y))\n",
    "# generated score - level of accuracy but not sure how its measured\n",
    "print ('validation test score:', forest_model8.score( train_X , train_y ))"
   ]
  },
  {
   "cell_type": "code",
   "execution_count": null,
   "metadata": {},
   "outputs": [],
   "source": []
  },
  {
   "cell_type": "markdown",
   "metadata": {},
   "source": [
    "## Running on the full set using model8"
   ]
  },
  {
   "cell_type": "code",
   "execution_count": 55,
   "metadata": {},
   "outputs": [],
   "source": [
    "# Running on the final Zindi set\n",
    "# Run the model on the test set \n",
    "forest_model8_pred_y = forest_model8.predict(test_X)"
   ]
  },
  {
   "cell_type": "code",
   "execution_count": 56,
   "metadata": {},
   "outputs": [
    {
     "data": {
      "text/html": [
       "<div>\n",
       "<style scoped>\n",
       "    .dataframe tbody tr th:only-of-type {\n",
       "        vertical-align: middle;\n",
       "    }\n",
       "\n",
       "    .dataframe tbody tr th {\n",
       "        vertical-align: top;\n",
       "    }\n",
       "\n",
       "    .dataframe thead th {\n",
       "        text-align: right;\n",
       "    }\n",
       "</style>\n",
       "<table border=\"1\" class=\"dataframe\">\n",
       "  <thead>\n",
       "    <tr style=\"text-align: right;\">\n",
       "      <th></th>\n",
       "      <th>ride_id</th>\n",
       "      <th>number_of_ticket</th>\n",
       "    </tr>\n",
       "  </thead>\n",
       "  <tbody>\n",
       "    <tr>\n",
       "      <th>6249</th>\n",
       "      <td>13856</td>\n",
       "      <td>19.41</td>\n",
       "    </tr>\n",
       "    <tr>\n",
       "      <th>6250</th>\n",
       "      <td>13857</td>\n",
       "      <td>4.88</td>\n",
       "    </tr>\n",
       "    <tr>\n",
       "      <th>6251</th>\n",
       "      <td>13847</td>\n",
       "      <td>9.62</td>\n",
       "    </tr>\n",
       "    <tr>\n",
       "      <th>6252</th>\n",
       "      <td>13859</td>\n",
       "      <td>6.37</td>\n",
       "    </tr>\n",
       "    <tr>\n",
       "      <th>6253</th>\n",
       "      <td>13855</td>\n",
       "      <td>5.23</td>\n",
       "    </tr>\n",
       "  </tbody>\n",
       "</table>\n",
       "</div>"
      ],
      "text/plain": [
       "      ride_id  number_of_ticket\n",
       "6249    13856             19.41\n",
       "6250    13857              4.88\n",
       "6251    13847              9.62\n",
       "6252    13859              6.37\n",
       "6253    13855              5.23"
      ]
     },
     "execution_count": 56,
     "metadata": {},
     "output_type": "execute_result"
    }
   ],
   "source": [
    "# creating the csv\n",
    "submission_data = {'ride_id': ride_id_df, 'number_of_ticket': forest_model8_pred_y}\n",
    "submission_data = pd.DataFrame(data=submission_data)\n",
    "submission_data = submission_data[['ride_id','number_of_ticket']]\n",
    "submission_data.head()"
   ]
  },
  {
   "cell_type": "code",
   "execution_count": 57,
   "metadata": {},
   "outputs": [],
   "source": [
    "submission_data.to_csv('nairobi_uber_rf_8.csv', index=False) #save to csv file"
   ]
  },
  {
   "cell_type": "code",
   "execution_count": null,
   "metadata": {},
   "outputs": [],
   "source": [
    "# Zindi score for forest_model8 4.1755"
   ]
  }
 ],
 "metadata": {
  "kernelspec": {
   "display_name": "Python 3",
   "language": "python",
   "name": "python3"
  },
  "language_info": {
   "codemirror_mode": {
    "name": "ipython",
    "version": 3
   },
   "file_extension": ".py",
   "mimetype": "text/x-python",
   "name": "python",
   "nbconvert_exporter": "python",
   "pygments_lexer": "ipython3",
   "version": "3.6.5"
  }
 },
 "nbformat": 4,
 "nbformat_minor": 2
}
