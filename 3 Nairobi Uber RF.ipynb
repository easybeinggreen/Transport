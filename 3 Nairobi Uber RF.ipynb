{
 "cells": [
  {
   "cell_type": "code",
   "execution_count": 78,
   "metadata": {},
   "outputs": [],
   "source": [
    "# Importing the libraries\n",
    "import pandas as pd\n",
    "import numpy as np\n",
    "from sklearn.model_selection import train_test_split\n",
    "from sklearn.tree import DecisionTreeRegressor\n",
    "from sklearn.ensemble import RandomForestRegressor\n",
    "from sklearn.feature_selection import SelectFromModel\n",
    "from sklearn.metrics import accuracy_score\n",
    "from sklearn.metrics import mean_absolute_error\n",
    "import seaborn as sns\n",
    "import matplotlib.pyplot as plt\n",
    "from datetime import date\n",
    "import calendar\n",
    "%matplotlib inline\n",
    "sns.set_style(\"white\", {'axes.grid' : True})\n",
    "sns.set_palette(\"tab10\", 14)\n",
    "sns.set_context('talk')"
   ]
  },
  {
   "cell_type": "code",
   "execution_count": 79,
   "metadata": {},
   "outputs": [],
   "source": [
    "# Reading in the two csv files\n",
    "traindf=pd.read_csv('train_revised_1.csv')\n",
    "testdf=pd.read_csv('test_questions_1.csv')"
   ]
  },
  {
   "cell_type": "code",
   "execution_count": 80,
   "metadata": {},
   "outputs": [],
   "source": [
    "# creating a 'number_of_ticket' column in the training file by counting number of tickets for each ride_id and grouping\n",
    "traindf['rides'] = traindf['ride_id']\n",
    "traindf['rides'] = np.where(traindf['rides'].notnull(), 1, np.NaN)\n",
    "traindf['number_of_ticket'] = traindf.groupby(['ride_id', 'rides'])['ride_id'].transform('count')\n",
    "traindf.drop('rides', axis=1,inplace=True)\n",
    "# removing duplicates where each journey has multiple tickets\n",
    "traindf = traindf.drop_duplicates()"
   ]
  },
  {
   "cell_type": "code",
   "execution_count": 81,
   "metadata": {},
   "outputs": [
    {
     "data": {
      "text/plain": [
       "(7360, 7)"
      ]
     },
     "execution_count": 81,
     "metadata": {},
     "output_type": "execute_result"
    }
   ],
   "source": [
    "# Combining train and test dataframe to ensure identical operations while preprocessing\n",
    "data = pd.concat([traindf,testdf], sort=False).reset_index(drop=True)\n",
    "data.shape"
   ]
  },
  {
   "cell_type": "code",
   "execution_count": 82,
   "metadata": {},
   "outputs": [],
   "source": [
    "# converting travel date as datetime\n",
    "data.travel_date = pd.to_datetime(data.travel_date, dayfirst=True)\n",
    "# converting travel dates into days of the week\n",
    "data['day'] = data.travel_date.dt.weekday\n",
    "data['day'] = data['day'].map({0:'Mon', 1:'Tue', 2:'Wed', 3:'Thur', 4:'Fri', 5:'Sat', 6:'Sun'})\n",
    "# converting travel time to hours (decimal)\n",
    "data[\"travel_time\"] = data[\"travel_time\"].str.split(':').apply(lambda x: int(x[0]) + int(x[1])/60)"
   ]
  },
  {
   "cell_type": "code",
   "execution_count": 83,
   "metadata": {},
   "outputs": [
    {
     "data": {
      "text/plain": [
       "ride_id                      int64\n",
       "travel_date         datetime64[ns]\n",
       "travel_time                float64\n",
       "travel_from                 object\n",
       "car_type                    object\n",
       "max_capacity                 int64\n",
       "number_of_ticket           float64\n",
       "day                         object\n",
       "dtype: object"
      ]
     },
     "execution_count": 83,
     "metadata": {},
     "output_type": "execute_result"
    }
   ],
   "source": [
    "data.dtypes"
   ]
  },
  {
   "cell_type": "code",
   "execution_count": 85,
   "metadata": {},
   "outputs": [
    {
     "data": {
      "text/html": [
       "<div>\n",
       "<style scoped>\n",
       "    .dataframe tbody tr th:only-of-type {\n",
       "        vertical-align: middle;\n",
       "    }\n",
       "\n",
       "    .dataframe tbody tr th {\n",
       "        vertical-align: top;\n",
       "    }\n",
       "\n",
       "    .dataframe thead th {\n",
       "        text-align: right;\n",
       "    }\n",
       "</style>\n",
       "<table border=\"1\" class=\"dataframe\">\n",
       "  <thead>\n",
       "    <tr style=\"text-align: right;\">\n",
       "      <th></th>\n",
       "      <th>ride_id</th>\n",
       "      <th>travel_date</th>\n",
       "      <th>travel_time</th>\n",
       "      <th>travel_from</th>\n",
       "      <th>car_type</th>\n",
       "      <th>max_capacity</th>\n",
       "      <th>number_of_ticket</th>\n",
       "      <th>day</th>\n",
       "      <th>daily_mean</th>\n",
       "      <th>daily_min</th>\n",
       "      <th>daily_max</th>\n",
       "      <th>tf_mean</th>\n",
       "      <th>tf_min</th>\n",
       "      <th>tf_max</th>\n",
       "    </tr>\n",
       "  </thead>\n",
       "  <tbody>\n",
       "    <tr>\n",
       "      <th>4643</th>\n",
       "      <td>1442</td>\n",
       "      <td>2017-10-17</td>\n",
       "      <td>7.250000</td>\n",
       "      <td>Migori</td>\n",
       "      <td>Bus</td>\n",
       "      <td>49</td>\n",
       "      <td>1.0</td>\n",
       "      <td>Tue</td>\n",
       "      <td>NaN</td>\n",
       "      <td>NaN</td>\n",
       "      <td>NaN</td>\n",
       "      <td>NaN</td>\n",
       "      <td>NaN</td>\n",
       "      <td>NaN</td>\n",
       "    </tr>\n",
       "    <tr>\n",
       "      <th>4614</th>\n",
       "      <td>14304</td>\n",
       "      <td>2017-11-14</td>\n",
       "      <td>5.166667</td>\n",
       "      <td>Kisii</td>\n",
       "      <td>Bus</td>\n",
       "      <td>49</td>\n",
       "      <td>1.0</td>\n",
       "      <td>Tue</td>\n",
       "      <td>NaN</td>\n",
       "      <td>NaN</td>\n",
       "      <td>NaN</td>\n",
       "      <td>NaN</td>\n",
       "      <td>NaN</td>\n",
       "      <td>NaN</td>\n",
       "    </tr>\n",
       "    <tr>\n",
       "      <th>4644</th>\n",
       "      <td>5437</td>\n",
       "      <td>2017-11-19</td>\n",
       "      <td>7.200000</td>\n",
       "      <td>Migori</td>\n",
       "      <td>Bus</td>\n",
       "      <td>49</td>\n",
       "      <td>1.0</td>\n",
       "      <td>Sun</td>\n",
       "      <td>NaN</td>\n",
       "      <td>NaN</td>\n",
       "      <td>NaN</td>\n",
       "      <td>NaN</td>\n",
       "      <td>NaN</td>\n",
       "      <td>NaN</td>\n",
       "    </tr>\n",
       "    <tr>\n",
       "      <th>714</th>\n",
       "      <td>5710</td>\n",
       "      <td>2017-11-26</td>\n",
       "      <td>7.083333</td>\n",
       "      <td>Keroka</td>\n",
       "      <td>Bus</td>\n",
       "      <td>49</td>\n",
       "      <td>1.0</td>\n",
       "      <td>Sun</td>\n",
       "      <td>NaN</td>\n",
       "      <td>NaN</td>\n",
       "      <td>NaN</td>\n",
       "      <td>NaN</td>\n",
       "      <td>NaN</td>\n",
       "      <td>NaN</td>\n",
       "    </tr>\n",
       "    <tr>\n",
       "      <th>4599</th>\n",
       "      <td>13577</td>\n",
       "      <td>2017-11-27</td>\n",
       "      <td>9.000000</td>\n",
       "      <td>Kisii</td>\n",
       "      <td>shuttle</td>\n",
       "      <td>11</td>\n",
       "      <td>11.0</td>\n",
       "      <td>Mon</td>\n",
       "      <td>NaN</td>\n",
       "      <td>NaN</td>\n",
       "      <td>NaN</td>\n",
       "      <td>NaN</td>\n",
       "      <td>NaN</td>\n",
       "      <td>NaN</td>\n",
       "    </tr>\n",
       "  </tbody>\n",
       "</table>\n",
       "</div>"
      ],
      "text/plain": [
       "      ride_id travel_date  travel_time travel_from car_type  max_capacity  \\\n",
       "4643     1442  2017-10-17     7.250000      Migori      Bus            49   \n",
       "4614    14304  2017-11-14     5.166667       Kisii      Bus            49   \n",
       "4644     5437  2017-11-19     7.200000      Migori      Bus            49   \n",
       "714      5710  2017-11-26     7.083333      Keroka      Bus            49   \n",
       "4599    13577  2017-11-27     9.000000       Kisii  shuttle            11   \n",
       "\n",
       "      number_of_ticket  day  daily_mean  daily_min  daily_max  tf_mean  \\\n",
       "4643               1.0  Tue         NaN        NaN        NaN      NaN   \n",
       "4614               1.0  Tue         NaN        NaN        NaN      NaN   \n",
       "4644               1.0  Sun         NaN        NaN        NaN      NaN   \n",
       "714                1.0  Sun         NaN        NaN        NaN      NaN   \n",
       "4599              11.0  Mon         NaN        NaN        NaN      NaN   \n",
       "\n",
       "      tf_min  tf_max  \n",
       "4643     NaN     NaN  \n",
       "4614     NaN     NaN  \n",
       "4644     NaN     NaN  \n",
       "714      NaN     NaN  \n",
       "4599     NaN     NaN  "
      ]
     },
     "execution_count": 85,
     "metadata": {},
     "output_type": "execute_result"
    }
   ],
   "source": [
    "# Creating blank columns in data\n",
    "header_list = ['daily_mean','daily_min','daily_max', 'tf_mean', 'tf_min', 'tf_max']\n",
    "for header in header_list:\n",
    "    data[header] = np.nan\n",
    "data = data.sort_values('travel_date')\n",
    "data.head()"
   ]
  },
  {
   "cell_type": "markdown",
   "metadata": {},
   "source": [
    "# Adding in the Uber data from notebook 2"
   ]
  },
  {
   "cell_type": "code",
   "execution_count": 86,
   "metadata": {},
   "outputs": [],
   "source": [
    "# Reading in uber.csv\n",
    "uber=pd.read_csv('uber.csv')\n",
    "# converting travel date as datetime\n",
    "uber.travel_date = pd.to_datetime(uber.travel_date, dayfirst=True)"
   ]
  },
  {
   "cell_type": "code",
   "execution_count": null,
   "metadata": {},
   "outputs": [],
   "source": [
    "# Setting travel_date as the index as easier to use loc and dates are unique\n",
    "uber = uber.set_index('travel_date').sort_index()"
   ]
  },
  {
   "cell_type": "code",
   "execution_count": 88,
   "metadata": {},
   "outputs": [
    {
     "data": {
      "text/html": [
       "<div>\n",
       "<style scoped>\n",
       "    .dataframe tbody tr th:only-of-type {\n",
       "        vertical-align: middle;\n",
       "    }\n",
       "\n",
       "    .dataframe tbody tr th {\n",
       "        vertical-align: top;\n",
       "    }\n",
       "\n",
       "    .dataframe thead th {\n",
       "        text-align: right;\n",
       "    }\n",
       "</style>\n",
       "<table border=\"1\" class=\"dataframe\">\n",
       "  <thead>\n",
       "    <tr style=\"text-align: right;\">\n",
       "      <th></th>\n",
       "      <th>day</th>\n",
       "      <th>daily_mean</th>\n",
       "      <th>daily_min</th>\n",
       "      <th>daily_max</th>\n",
       "      <th>am_mean</th>\n",
       "      <th>am_min</th>\n",
       "      <th>am_max</th>\n",
       "      <th>pm_mean</th>\n",
       "      <th>pm_min</th>\n",
       "      <th>pm_max</th>\n",
       "      <th>mid_mean</th>\n",
       "      <th>mid_min</th>\n",
       "      <th>mid_max</th>\n",
       "      <th>eve_mean</th>\n",
       "      <th>eve_min</th>\n",
       "      <th>eve_max</th>\n",
       "      <th>em_mean</th>\n",
       "      <th>em_min</th>\n",
       "      <th>em_max</th>\n",
       "    </tr>\n",
       "    <tr>\n",
       "      <th>travel_date</th>\n",
       "      <th></th>\n",
       "      <th></th>\n",
       "      <th></th>\n",
       "      <th></th>\n",
       "      <th></th>\n",
       "      <th></th>\n",
       "      <th></th>\n",
       "      <th></th>\n",
       "      <th></th>\n",
       "      <th></th>\n",
       "      <th></th>\n",
       "      <th></th>\n",
       "      <th></th>\n",
       "      <th></th>\n",
       "      <th></th>\n",
       "      <th></th>\n",
       "      <th></th>\n",
       "      <th></th>\n",
       "      <th></th>\n",
       "    </tr>\n",
       "  </thead>\n",
       "  <tbody>\n",
       "    <tr>\n",
       "      <th>2017-10-17</th>\n",
       "      <td>Tue</td>\n",
       "      <td>2734.0</td>\n",
       "      <td>1947.0</td>\n",
       "      <td>4061.0</td>\n",
       "      <td>2898.0</td>\n",
       "      <td>2032.0</td>\n",
       "      <td>4365.0</td>\n",
       "      <td>2978.0</td>\n",
       "      <td>2014.0</td>\n",
       "      <td>4864.0</td>\n",
       "      <td>2715.0</td>\n",
       "      <td>1967.0</td>\n",
       "      <td>3880.0</td>\n",
       "      <td>2496.0</td>\n",
       "      <td>1862.0</td>\n",
       "      <td>3424.0</td>\n",
       "      <td>2467.0</td>\n",
       "      <td>1851.0</td>\n",
       "      <td>3353.0</td>\n",
       "    </tr>\n",
       "    <tr>\n",
       "      <th>2017-10-18</th>\n",
       "      <td>Wed</td>\n",
       "      <td>2149.0</td>\n",
       "      <td>1500.0</td>\n",
       "      <td>3245.0</td>\n",
       "      <td>2188.0</td>\n",
       "      <td>1564.0</td>\n",
       "      <td>3141.0</td>\n",
       "      <td>2526.0</td>\n",
       "      <td>1715.0</td>\n",
       "      <td>3881.0</td>\n",
       "      <td>2122.0</td>\n",
       "      <td>1505.0</td>\n",
       "      <td>3108.0</td>\n",
       "      <td>1926.0</td>\n",
       "      <td>1407.0</td>\n",
       "      <td>2714.0</td>\n",
       "      <td>1943.0</td>\n",
       "      <td>1421.0</td>\n",
       "      <td>2728.0</td>\n",
       "    </tr>\n",
       "    <tr>\n",
       "      <th>2017-10-19</th>\n",
       "      <td>Thur</td>\n",
       "      <td>2752.0</td>\n",
       "      <td>1757.0</td>\n",
       "      <td>4547.0</td>\n",
       "      <td>2562.0</td>\n",
       "      <td>1722.0</td>\n",
       "      <td>3869.0</td>\n",
       "      <td>3345.0</td>\n",
       "      <td>2013.0</td>\n",
       "      <td>5915.0</td>\n",
       "      <td>2788.0</td>\n",
       "      <td>1813.0</td>\n",
       "      <td>4415.0</td>\n",
       "      <td>2579.0</td>\n",
       "      <td>1685.0</td>\n",
       "      <td>4125.0</td>\n",
       "      <td>2390.0</td>\n",
       "      <td>1635.0</td>\n",
       "      <td>3532.0</td>\n",
       "    </tr>\n",
       "    <tr>\n",
       "      <th>2017-10-20</th>\n",
       "      <td>Fri</td>\n",
       "      <td>2464.0</td>\n",
       "      <td>1517.0</td>\n",
       "      <td>4034.0</td>\n",
       "      <td>2454.0</td>\n",
       "      <td>1512.0</td>\n",
       "      <td>4015.0</td>\n",
       "      <td>2467.0</td>\n",
       "      <td>1527.0</td>\n",
       "      <td>4002.0</td>\n",
       "      <td>2515.0</td>\n",
       "      <td>1522.0</td>\n",
       "      <td>4239.0</td>\n",
       "      <td>2433.0</td>\n",
       "      <td>1514.0</td>\n",
       "      <td>3924.0</td>\n",
       "      <td>2448.0</td>\n",
       "      <td>1513.0</td>\n",
       "      <td>3985.0</td>\n",
       "    </tr>\n",
       "    <tr>\n",
       "      <th>2017-10-21</th>\n",
       "      <td>Sat</td>\n",
       "      <td>2069.0</td>\n",
       "      <td>1513.0</td>\n",
       "      <td>2923.0</td>\n",
       "      <td>2082.0</td>\n",
       "      <td>1529.0</td>\n",
       "      <td>2910.0</td>\n",
       "      <td>2065.0</td>\n",
       "      <td>1513.0</td>\n",
       "      <td>2909.0</td>\n",
       "      <td>2126.0</td>\n",
       "      <td>1550.0</td>\n",
       "      <td>3002.0</td>\n",
       "      <td>2011.0</td>\n",
       "      <td>1488.0</td>\n",
       "      <td>2793.0</td>\n",
       "      <td>1994.0</td>\n",
       "      <td>1478.0</td>\n",
       "      <td>2767.0</td>\n",
       "    </tr>\n",
       "  </tbody>\n",
       "</table>\n",
       "</div>"
      ],
      "text/plain": [
       "              day  daily_mean  daily_min  daily_max  am_mean  am_min  am_max  \\\n",
       "travel_date                                                                    \n",
       "2017-10-17    Tue      2734.0     1947.0     4061.0   2898.0  2032.0  4365.0   \n",
       "2017-10-18    Wed      2149.0     1500.0     3245.0   2188.0  1564.0  3141.0   \n",
       "2017-10-19   Thur      2752.0     1757.0     4547.0   2562.0  1722.0  3869.0   \n",
       "2017-10-20    Fri      2464.0     1517.0     4034.0   2454.0  1512.0  4015.0   \n",
       "2017-10-21    Sat      2069.0     1513.0     2923.0   2082.0  1529.0  2910.0   \n",
       "\n",
       "             pm_mean  pm_min  pm_max  mid_mean  mid_min  mid_max  eve_mean  \\\n",
       "travel_date                                                                  \n",
       "2017-10-17    2978.0  2014.0  4864.0    2715.0   1967.0   3880.0    2496.0   \n",
       "2017-10-18    2526.0  1715.0  3881.0    2122.0   1505.0   3108.0    1926.0   \n",
       "2017-10-19    3345.0  2013.0  5915.0    2788.0   1813.0   4415.0    2579.0   \n",
       "2017-10-20    2467.0  1527.0  4002.0    2515.0   1522.0   4239.0    2433.0   \n",
       "2017-10-21    2065.0  1513.0  2909.0    2126.0   1550.0   3002.0    2011.0   \n",
       "\n",
       "             eve_min  eve_max  em_mean  em_min  em_max  \n",
       "travel_date                                             \n",
       "2017-10-17    1862.0   3424.0   2467.0  1851.0  3353.0  \n",
       "2017-10-18    1407.0   2714.0   1943.0  1421.0  2728.0  \n",
       "2017-10-19    1685.0   4125.0   2390.0  1635.0  3532.0  \n",
       "2017-10-20    1514.0   3924.0   2448.0  1513.0  3985.0  \n",
       "2017-10-21    1488.0   2793.0   1994.0  1478.0  2767.0  "
      ]
     },
     "execution_count": 88,
     "metadata": {},
     "output_type": "execute_result"
    }
   ],
   "source": [
    "# Changing order of columns with day and daily mean at the far left\n",
    "uber = uber[['day','daily_mean', 'daily_min', 'daily_max', 'am_mean', 'am_min', 'am_max',\n",
    "       'pm_mean', 'pm_min', 'pm_max', 'mid_mean', 'mid_min', 'mid_max',\n",
    "       'eve_mean', 'eve_min', 'eve_max', 'em_mean', 'em_min', 'em_max']]\n",
    "uber.head()"
   ]
  },
  {
   "cell_type": "code",
   "execution_count": 89,
   "metadata": {},
   "outputs": [
    {
     "data": {
      "text/html": [
       "<div>\n",
       "<style scoped>\n",
       "    .dataframe tbody tr th:only-of-type {\n",
       "        vertical-align: middle;\n",
       "    }\n",
       "\n",
       "    .dataframe tbody tr th {\n",
       "        vertical-align: top;\n",
       "    }\n",
       "\n",
       "    .dataframe thead th {\n",
       "        text-align: right;\n",
       "    }\n",
       "</style>\n",
       "<table border=\"1\" class=\"dataframe\">\n",
       "  <thead>\n",
       "    <tr style=\"text-align: right;\">\n",
       "      <th></th>\n",
       "      <th>ride_id</th>\n",
       "      <th>travel_date</th>\n",
       "      <th>travel_time</th>\n",
       "      <th>travel_from</th>\n",
       "      <th>car_type</th>\n",
       "      <th>max_capacity</th>\n",
       "      <th>number_of_ticket</th>\n",
       "      <th>day</th>\n",
       "      <th>daily_mean</th>\n",
       "      <th>daily_min</th>\n",
       "      <th>daily_max</th>\n",
       "      <th>tf_mean</th>\n",
       "      <th>tf_min</th>\n",
       "      <th>tf_max</th>\n",
       "      <th>time_frame</th>\n",
       "    </tr>\n",
       "  </thead>\n",
       "  <tbody>\n",
       "    <tr>\n",
       "      <th>4643</th>\n",
       "      <td>1442</td>\n",
       "      <td>2017-10-17</td>\n",
       "      <td>7.250000</td>\n",
       "      <td>Migori</td>\n",
       "      <td>Bus</td>\n",
       "      <td>49</td>\n",
       "      <td>1.0</td>\n",
       "      <td>Tue</td>\n",
       "      <td>NaN</td>\n",
       "      <td>NaN</td>\n",
       "      <td>NaN</td>\n",
       "      <td>NaN</td>\n",
       "      <td>NaN</td>\n",
       "      <td>NaN</td>\n",
       "      <td>pm</td>\n",
       "    </tr>\n",
       "    <tr>\n",
       "      <th>4614</th>\n",
       "      <td>14304</td>\n",
       "      <td>2017-11-14</td>\n",
       "      <td>5.166667</td>\n",
       "      <td>Kisii</td>\n",
       "      <td>Bus</td>\n",
       "      <td>49</td>\n",
       "      <td>1.0</td>\n",
       "      <td>Tue</td>\n",
       "      <td>NaN</td>\n",
       "      <td>NaN</td>\n",
       "      <td>NaN</td>\n",
       "      <td>NaN</td>\n",
       "      <td>NaN</td>\n",
       "      <td>NaN</td>\n",
       "      <td>mid</td>\n",
       "    </tr>\n",
       "    <tr>\n",
       "      <th>4644</th>\n",
       "      <td>5437</td>\n",
       "      <td>2017-11-19</td>\n",
       "      <td>7.200000</td>\n",
       "      <td>Migori</td>\n",
       "      <td>Bus</td>\n",
       "      <td>49</td>\n",
       "      <td>1.0</td>\n",
       "      <td>Sun</td>\n",
       "      <td>NaN</td>\n",
       "      <td>NaN</td>\n",
       "      <td>NaN</td>\n",
       "      <td>NaN</td>\n",
       "      <td>NaN</td>\n",
       "      <td>NaN</td>\n",
       "      <td>pm</td>\n",
       "    </tr>\n",
       "    <tr>\n",
       "      <th>714</th>\n",
       "      <td>5710</td>\n",
       "      <td>2017-11-26</td>\n",
       "      <td>7.083333</td>\n",
       "      <td>Keroka</td>\n",
       "      <td>Bus</td>\n",
       "      <td>49</td>\n",
       "      <td>1.0</td>\n",
       "      <td>Sun</td>\n",
       "      <td>NaN</td>\n",
       "      <td>NaN</td>\n",
       "      <td>NaN</td>\n",
       "      <td>NaN</td>\n",
       "      <td>NaN</td>\n",
       "      <td>NaN</td>\n",
       "      <td>pm</td>\n",
       "    </tr>\n",
       "    <tr>\n",
       "      <th>4599</th>\n",
       "      <td>13577</td>\n",
       "      <td>2017-11-27</td>\n",
       "      <td>9.000000</td>\n",
       "      <td>Kisii</td>\n",
       "      <td>shuttle</td>\n",
       "      <td>11</td>\n",
       "      <td>11.0</td>\n",
       "      <td>Mon</td>\n",
       "      <td>NaN</td>\n",
       "      <td>NaN</td>\n",
       "      <td>NaN</td>\n",
       "      <td>NaN</td>\n",
       "      <td>NaN</td>\n",
       "      <td>NaN</td>\n",
       "      <td>pm</td>\n",
       "    </tr>\n",
       "  </tbody>\n",
       "</table>\n",
       "</div>"
      ],
      "text/plain": [
       "      ride_id travel_date  travel_time travel_from car_type  max_capacity  \\\n",
       "4643     1442  2017-10-17     7.250000      Migori      Bus            49   \n",
       "4614    14304  2017-11-14     5.166667       Kisii      Bus            49   \n",
       "4644     5437  2017-11-19     7.200000      Migori      Bus            49   \n",
       "714      5710  2017-11-26     7.083333      Keroka      Bus            49   \n",
       "4599    13577  2017-11-27     9.000000       Kisii  shuttle            11   \n",
       "\n",
       "      number_of_ticket  day  daily_mean  daily_min  daily_max  tf_mean  \\\n",
       "4643               1.0  Tue         NaN        NaN        NaN      NaN   \n",
       "4614               1.0  Tue         NaN        NaN        NaN      NaN   \n",
       "4644               1.0  Sun         NaN        NaN        NaN      NaN   \n",
       "714                1.0  Sun         NaN        NaN        NaN      NaN   \n",
       "4599              11.0  Mon         NaN        NaN        NaN      NaN   \n",
       "\n",
       "      tf_min  tf_max time_frame  \n",
       "4643     NaN     NaN         pm  \n",
       "4614     NaN     NaN        mid  \n",
       "4644     NaN     NaN         pm  \n",
       "714      NaN     NaN         pm  \n",
       "4599     NaN     NaN         pm  "
      ]
     },
     "execution_count": 89,
     "metadata": {},
     "output_type": "execute_result"
    }
   ],
   "source": [
    "\n",
    "# # Iterating through mobi data to insert timeframe data appropriate for arrival in Nairobi based on 9 hour journey\n",
    "# # and uber times at destination of: mid = 10-16, pm = 16=19, eve = 19-24, em = 00-7\n",
    "# # For each date... identify phase of time frame....and copy relvant measure from uber into data\n",
    "# New column time_frame containing reference to arrival time in central Nairobi\n",
    "data.loc[data.travel_time <7, 'time_frame'] = 'mid'\n",
    "data.loc[(data.travel_time >=7) & (data.travel_time< 10), 'time_frame'] = 'pm'\n",
    "data.loc[(data.travel_time >=10) & (data.travel_time< 17), 'time_frame'] = 'eve'\n",
    "data.loc[(data.travel_time >=17) & (data.travel_time< 22), 'time_frame'] = 'em'\n",
    "data.loc[(data.travel_time >=22) & (data.travel_time< 24), 'time_frame'] = 'am'\n",
    "data.head()"
   ]
  },
  {
   "cell_type": "code",
   "execution_count": 93,
   "metadata": {},
   "outputs": [
    {
     "data": {
      "text/html": [
       "<div>\n",
       "<style scoped>\n",
       "    .dataframe tbody tr th:only-of-type {\n",
       "        vertical-align: middle;\n",
       "    }\n",
       "\n",
       "    .dataframe tbody tr th {\n",
       "        vertical-align: top;\n",
       "    }\n",
       "\n",
       "    .dataframe thead th {\n",
       "        text-align: right;\n",
       "    }\n",
       "</style>\n",
       "<table border=\"1\" class=\"dataframe\">\n",
       "  <thead>\n",
       "    <tr style=\"text-align: right;\">\n",
       "      <th></th>\n",
       "      <th>ride_id</th>\n",
       "      <th>travel_date</th>\n",
       "      <th>travel_time</th>\n",
       "      <th>travel_from</th>\n",
       "      <th>car_type</th>\n",
       "      <th>max_capacity</th>\n",
       "      <th>number_of_ticket</th>\n",
       "      <th>day</th>\n",
       "      <th>daily_mean</th>\n",
       "      <th>daily_min</th>\n",
       "      <th>daily_max</th>\n",
       "      <th>tf_mean</th>\n",
       "      <th>tf_min</th>\n",
       "      <th>tf_max</th>\n",
       "      <th>time_frame</th>\n",
       "    </tr>\n",
       "  </thead>\n",
       "  <tbody>\n",
       "    <tr>\n",
       "      <th>4643</th>\n",
       "      <td>1442</td>\n",
       "      <td>2017-10-17</td>\n",
       "      <td>7.250000</td>\n",
       "      <td>Migori</td>\n",
       "      <td>Bus</td>\n",
       "      <td>49</td>\n",
       "      <td>1.0</td>\n",
       "      <td>Tue</td>\n",
       "      <td>2734.0</td>\n",
       "      <td>1947.0</td>\n",
       "      <td>4061.0</td>\n",
       "      <td>NaN</td>\n",
       "      <td>NaN</td>\n",
       "      <td>NaN</td>\n",
       "      <td>pm</td>\n",
       "    </tr>\n",
       "    <tr>\n",
       "      <th>4614</th>\n",
       "      <td>14304</td>\n",
       "      <td>2017-11-14</td>\n",
       "      <td>5.166667</td>\n",
       "      <td>Kisii</td>\n",
       "      <td>Bus</td>\n",
       "      <td>49</td>\n",
       "      <td>1.0</td>\n",
       "      <td>Tue</td>\n",
       "      <td>2974.0</td>\n",
       "      <td>1806.0</td>\n",
       "      <td>5122.0</td>\n",
       "      <td>NaN</td>\n",
       "      <td>NaN</td>\n",
       "      <td>NaN</td>\n",
       "      <td>mid</td>\n",
       "    </tr>\n",
       "    <tr>\n",
       "      <th>4644</th>\n",
       "      <td>5437</td>\n",
       "      <td>2017-11-19</td>\n",
       "      <td>7.200000</td>\n",
       "      <td>Migori</td>\n",
       "      <td>Bus</td>\n",
       "      <td>49</td>\n",
       "      <td>1.0</td>\n",
       "      <td>Sun</td>\n",
       "      <td>1905.0</td>\n",
       "      <td>1437.0</td>\n",
       "      <td>2598.0</td>\n",
       "      <td>NaN</td>\n",
       "      <td>NaN</td>\n",
       "      <td>NaN</td>\n",
       "      <td>pm</td>\n",
       "    </tr>\n",
       "    <tr>\n",
       "      <th>714</th>\n",
       "      <td>5710</td>\n",
       "      <td>2017-11-26</td>\n",
       "      <td>7.083333</td>\n",
       "      <td>Keroka</td>\n",
       "      <td>Bus</td>\n",
       "      <td>49</td>\n",
       "      <td>1.0</td>\n",
       "      <td>Sun</td>\n",
       "      <td>2181.0</td>\n",
       "      <td>1474.0</td>\n",
       "      <td>3350.0</td>\n",
       "      <td>NaN</td>\n",
       "      <td>NaN</td>\n",
       "      <td>NaN</td>\n",
       "      <td>pm</td>\n",
       "    </tr>\n",
       "    <tr>\n",
       "      <th>4599</th>\n",
       "      <td>13577</td>\n",
       "      <td>2017-11-27</td>\n",
       "      <td>9.000000</td>\n",
       "      <td>Kisii</td>\n",
       "      <td>shuttle</td>\n",
       "      <td>11</td>\n",
       "      <td>11.0</td>\n",
       "      <td>Mon</td>\n",
       "      <td>3121.0</td>\n",
       "      <td>1634.0</td>\n",
       "      <td>6066.0</td>\n",
       "      <td>NaN</td>\n",
       "      <td>NaN</td>\n",
       "      <td>NaN</td>\n",
       "      <td>pm</td>\n",
       "    </tr>\n",
       "  </tbody>\n",
       "</table>\n",
       "</div>"
      ],
      "text/plain": [
       "      ride_id travel_date  travel_time travel_from car_type  max_capacity  \\\n",
       "4643     1442  2017-10-17     7.250000      Migori      Bus            49   \n",
       "4614    14304  2017-11-14     5.166667       Kisii      Bus            49   \n",
       "4644     5437  2017-11-19     7.200000      Migori      Bus            49   \n",
       "714      5710  2017-11-26     7.083333      Keroka      Bus            49   \n",
       "4599    13577  2017-11-27     9.000000       Kisii  shuttle            11   \n",
       "\n",
       "      number_of_ticket  day  daily_mean  daily_min  daily_max  tf_mean  \\\n",
       "4643               1.0  Tue      2734.0     1947.0     4061.0      NaN   \n",
       "4614               1.0  Tue      2974.0     1806.0     5122.0      NaN   \n",
       "4644               1.0  Sun      1905.0     1437.0     2598.0      NaN   \n",
       "714                1.0  Sun      2181.0     1474.0     3350.0      NaN   \n",
       "4599              11.0  Mon      3121.0     1634.0     6066.0      NaN   \n",
       "\n",
       "      tf_min  tf_max time_frame  \n",
       "4643     NaN     NaN         pm  \n",
       "4614     NaN     NaN        mid  \n",
       "4644     NaN     NaN         pm  \n",
       "714      NaN     NaN         pm  \n",
       "4599     NaN     NaN         pm  "
      ]
     },
     "execution_count": 93,
     "metadata": {},
     "output_type": "execute_result"
    }
   ],
   "source": [
    "# Iterating the daily uber data into the mobi data \n",
    "dailies = ['daily_mean', 'daily_min', 'daily_max']\n",
    "for date in data.travel_date:\n",
    "    for daily in dailies:\n",
    "        data.loc[data.index[data.travel_date == date], daily] = uber.at[date, daily] # THis needed to ensure INDEX is used\n",
    "data.head()"
   ]
  },
  {
   "cell_type": "code",
   "execution_count": 95,
   "metadata": {},
   "outputs": [],
   "source": [
    "\n",
    "measures = ['_mean', '_min', '_max']\n",
    "for date in data.travel_date:\n",
    "    for measure in measures:\n",
    "            data.loc[data.index[(data.travel_date == date) & (data.time_frame == 'eve')], 'tf' + measure ] = uber.at[date, 'eve' + measure]\n",
    "\n",
    "for date in data.travel_date:\n",
    "    for measure in measures:\n",
    "            data.loc[data.index[(data.travel_date == date) & (data.time_frame == 'am')], 'tf' + measure ] = uber.at[date, 'am' + measure]\n",
    "\n",
    "for date in data.travel_date:\n",
    "    for measure in measures:\n",
    "            data.loc[data.index[(data.travel_date == date) & (data.time_frame == 'pm')], 'tf' + measure ] = uber.at[date, 'pm' + measure]\n",
    "\n",
    "for date in data.travel_date:\n",
    "    for measure in measures:\n",
    "            data.loc[data.index[(data.travel_date == date) & (data.time_frame == 'em')], 'tf' + measure ] = uber.at[date, 'em' + measure]\n",
    "\n",
    "for date in data.travel_date:\n",
    "    for measure in measures:\n",
    "            data.loc[data.index[(data.travel_date == date) & (data.time_frame == 'mid')], 'tf' + measure ] = uber.at[date, 'mid' + measure]"
   ]
  },
  {
   "cell_type": "code",
   "execution_count": 96,
   "metadata": {},
   "outputs": [
    {
     "data": {
      "text/html": [
       "<div>\n",
       "<style scoped>\n",
       "    .dataframe tbody tr th:only-of-type {\n",
       "        vertical-align: middle;\n",
       "    }\n",
       "\n",
       "    .dataframe tbody tr th {\n",
       "        vertical-align: top;\n",
       "    }\n",
       "\n",
       "    .dataframe thead th {\n",
       "        text-align: right;\n",
       "    }\n",
       "</style>\n",
       "<table border=\"1\" class=\"dataframe\">\n",
       "  <thead>\n",
       "    <tr style=\"text-align: right;\">\n",
       "      <th></th>\n",
       "      <th>ride_id</th>\n",
       "      <th>travel_date</th>\n",
       "      <th>travel_time</th>\n",
       "      <th>travel_from</th>\n",
       "      <th>car_type</th>\n",
       "      <th>max_capacity</th>\n",
       "      <th>number_of_ticket</th>\n",
       "      <th>day</th>\n",
       "      <th>daily_mean</th>\n",
       "      <th>daily_min</th>\n",
       "      <th>daily_max</th>\n",
       "      <th>tf_mean</th>\n",
       "      <th>tf_min</th>\n",
       "      <th>tf_max</th>\n",
       "      <th>time_frame</th>\n",
       "    </tr>\n",
       "  </thead>\n",
       "  <tbody>\n",
       "    <tr>\n",
       "      <th>4643</th>\n",
       "      <td>1442</td>\n",
       "      <td>2017-10-17</td>\n",
       "      <td>7.250000</td>\n",
       "      <td>Migori</td>\n",
       "      <td>Bus</td>\n",
       "      <td>49</td>\n",
       "      <td>1.0</td>\n",
       "      <td>Tue</td>\n",
       "      <td>2734.0</td>\n",
       "      <td>1947.0</td>\n",
       "      <td>4061.0</td>\n",
       "      <td>2978.0</td>\n",
       "      <td>2014.0</td>\n",
       "      <td>4864.0</td>\n",
       "      <td>pm</td>\n",
       "    </tr>\n",
       "    <tr>\n",
       "      <th>4614</th>\n",
       "      <td>14304</td>\n",
       "      <td>2017-11-14</td>\n",
       "      <td>5.166667</td>\n",
       "      <td>Kisii</td>\n",
       "      <td>Bus</td>\n",
       "      <td>49</td>\n",
       "      <td>1.0</td>\n",
       "      <td>Tue</td>\n",
       "      <td>2974.0</td>\n",
       "      <td>1806.0</td>\n",
       "      <td>5122.0</td>\n",
       "      <td>3011.0</td>\n",
       "      <td>1859.0</td>\n",
       "      <td>5007.0</td>\n",
       "      <td>mid</td>\n",
       "    </tr>\n",
       "    <tr>\n",
       "      <th>4644</th>\n",
       "      <td>5437</td>\n",
       "      <td>2017-11-19</td>\n",
       "      <td>7.200000</td>\n",
       "      <td>Migori</td>\n",
       "      <td>Bus</td>\n",
       "      <td>49</td>\n",
       "      <td>1.0</td>\n",
       "      <td>Sun</td>\n",
       "      <td>1905.0</td>\n",
       "      <td>1437.0</td>\n",
       "      <td>2598.0</td>\n",
       "      <td>1921.0</td>\n",
       "      <td>1439.0</td>\n",
       "      <td>2651.0</td>\n",
       "      <td>pm</td>\n",
       "    </tr>\n",
       "    <tr>\n",
       "      <th>714</th>\n",
       "      <td>5710</td>\n",
       "      <td>2017-11-26</td>\n",
       "      <td>7.083333</td>\n",
       "      <td>Keroka</td>\n",
       "      <td>Bus</td>\n",
       "      <td>49</td>\n",
       "      <td>1.0</td>\n",
       "      <td>Sun</td>\n",
       "      <td>2181.0</td>\n",
       "      <td>1474.0</td>\n",
       "      <td>3350.0</td>\n",
       "      <td>2115.0</td>\n",
       "      <td>1458.0</td>\n",
       "      <td>3133.0</td>\n",
       "      <td>pm</td>\n",
       "    </tr>\n",
       "    <tr>\n",
       "      <th>4599</th>\n",
       "      <td>13577</td>\n",
       "      <td>2017-11-27</td>\n",
       "      <td>9.000000</td>\n",
       "      <td>Kisii</td>\n",
       "      <td>shuttle</td>\n",
       "      <td>11</td>\n",
       "      <td>11.0</td>\n",
       "      <td>Mon</td>\n",
       "      <td>3121.0</td>\n",
       "      <td>1634.0</td>\n",
       "      <td>6066.0</td>\n",
       "      <td>3634.0</td>\n",
       "      <td>1840.0</td>\n",
       "      <td>7340.0</td>\n",
       "      <td>pm</td>\n",
       "    </tr>\n",
       "    <tr>\n",
       "      <th>4598</th>\n",
       "      <td>13529</td>\n",
       "      <td>2017-11-27</td>\n",
       "      <td>9.166667</td>\n",
       "      <td>Kisii</td>\n",
       "      <td>shuttle</td>\n",
       "      <td>11</td>\n",
       "      <td>10.0</td>\n",
       "      <td>Mon</td>\n",
       "      <td>3121.0</td>\n",
       "      <td>1634.0</td>\n",
       "      <td>6066.0</td>\n",
       "      <td>3634.0</td>\n",
       "      <td>1840.0</td>\n",
       "      <td>7340.0</td>\n",
       "      <td>pm</td>\n",
       "    </tr>\n",
       "    <tr>\n",
       "      <th>4597</th>\n",
       "      <td>13528</td>\n",
       "      <td>2017-11-27</td>\n",
       "      <td>9.500000</td>\n",
       "      <td>Kisii</td>\n",
       "      <td>shuttle</td>\n",
       "      <td>11</td>\n",
       "      <td>11.0</td>\n",
       "      <td>Mon</td>\n",
       "      <td>3121.0</td>\n",
       "      <td>1634.0</td>\n",
       "      <td>6066.0</td>\n",
       "      <td>3634.0</td>\n",
       "      <td>1840.0</td>\n",
       "      <td>7340.0</td>\n",
       "      <td>pm</td>\n",
       "    </tr>\n",
       "    <tr>\n",
       "      <th>4596</th>\n",
       "      <td>13527</td>\n",
       "      <td>2017-11-27</td>\n",
       "      <td>9.333333</td>\n",
       "      <td>Kisii</td>\n",
       "      <td>shuttle</td>\n",
       "      <td>11</td>\n",
       "      <td>9.0</td>\n",
       "      <td>Mon</td>\n",
       "      <td>3121.0</td>\n",
       "      <td>1634.0</td>\n",
       "      <td>6066.0</td>\n",
       "      <td>3634.0</td>\n",
       "      <td>1840.0</td>\n",
       "      <td>7340.0</td>\n",
       "      <td>pm</td>\n",
       "    </tr>\n",
       "    <tr>\n",
       "      <th>4595</th>\n",
       "      <td>13480</td>\n",
       "      <td>2017-11-27</td>\n",
       "      <td>9.666667</td>\n",
       "      <td>Kisii</td>\n",
       "      <td>shuttle</td>\n",
       "      <td>11</td>\n",
       "      <td>11.0</td>\n",
       "      <td>Mon</td>\n",
       "      <td>3121.0</td>\n",
       "      <td>1634.0</td>\n",
       "      <td>6066.0</td>\n",
       "      <td>3634.0</td>\n",
       "      <td>1840.0</td>\n",
       "      <td>7340.0</td>\n",
       "      <td>pm</td>\n",
       "    </tr>\n",
       "    <tr>\n",
       "      <th>4594</th>\n",
       "      <td>13479</td>\n",
       "      <td>2017-11-27</td>\n",
       "      <td>9.833333</td>\n",
       "      <td>Kisii</td>\n",
       "      <td>shuttle</td>\n",
       "      <td>11</td>\n",
       "      <td>11.0</td>\n",
       "      <td>Mon</td>\n",
       "      <td>3121.0</td>\n",
       "      <td>1634.0</td>\n",
       "      <td>6066.0</td>\n",
       "      <td>3634.0</td>\n",
       "      <td>1840.0</td>\n",
       "      <td>7340.0</td>\n",
       "      <td>pm</td>\n",
       "    </tr>\n",
       "  </tbody>\n",
       "</table>\n",
       "</div>"
      ],
      "text/plain": [
       "      ride_id travel_date  travel_time travel_from car_type  max_capacity  \\\n",
       "4643     1442  2017-10-17     7.250000      Migori      Bus            49   \n",
       "4614    14304  2017-11-14     5.166667       Kisii      Bus            49   \n",
       "4644     5437  2017-11-19     7.200000      Migori      Bus            49   \n",
       "714      5710  2017-11-26     7.083333      Keroka      Bus            49   \n",
       "4599    13577  2017-11-27     9.000000       Kisii  shuttle            11   \n",
       "4598    13529  2017-11-27     9.166667       Kisii  shuttle            11   \n",
       "4597    13528  2017-11-27     9.500000       Kisii  shuttle            11   \n",
       "4596    13527  2017-11-27     9.333333       Kisii  shuttle            11   \n",
       "4595    13480  2017-11-27     9.666667       Kisii  shuttle            11   \n",
       "4594    13479  2017-11-27     9.833333       Kisii  shuttle            11   \n",
       "\n",
       "      number_of_ticket  day  daily_mean  daily_min  daily_max  tf_mean  \\\n",
       "4643               1.0  Tue      2734.0     1947.0     4061.0   2978.0   \n",
       "4614               1.0  Tue      2974.0     1806.0     5122.0   3011.0   \n",
       "4644               1.0  Sun      1905.0     1437.0     2598.0   1921.0   \n",
       "714                1.0  Sun      2181.0     1474.0     3350.0   2115.0   \n",
       "4599              11.0  Mon      3121.0     1634.0     6066.0   3634.0   \n",
       "4598              10.0  Mon      3121.0     1634.0     6066.0   3634.0   \n",
       "4597              11.0  Mon      3121.0     1634.0     6066.0   3634.0   \n",
       "4596               9.0  Mon      3121.0     1634.0     6066.0   3634.0   \n",
       "4595              11.0  Mon      3121.0     1634.0     6066.0   3634.0   \n",
       "4594              11.0  Mon      3121.0     1634.0     6066.0   3634.0   \n",
       "\n",
       "      tf_min  tf_max time_frame  \n",
       "4643  2014.0  4864.0         pm  \n",
       "4614  1859.0  5007.0        mid  \n",
       "4644  1439.0  2651.0         pm  \n",
       "714   1458.0  3133.0         pm  \n",
       "4599  1840.0  7340.0         pm  \n",
       "4598  1840.0  7340.0         pm  \n",
       "4597  1840.0  7340.0         pm  \n",
       "4596  1840.0  7340.0         pm  \n",
       "4595  1840.0  7340.0         pm  \n",
       "4594  1840.0  7340.0         pm  "
      ]
     },
     "execution_count": 96,
     "metadata": {},
     "output_type": "execute_result"
    }
   ],
   "source": [
    "data.head(10)"
   ]
  },
  {
   "cell_type": "code",
   "execution_count": 97,
   "metadata": {},
   "outputs": [],
   "source": [
    "# Taking out data for exploration in notebook 1\n",
    "data.to_csv('data_explore.csv')"
   ]
  },
  {
   "cell_type": "code",
   "execution_count": 98,
   "metadata": {},
   "outputs": [
    {
     "data": {
      "text/plain": [
       "pm     4915\n",
       "mid    1133\n",
       "eve     903\n",
       "em      267\n",
       "am      142\n",
       "Name: time_frame, dtype: int64"
      ]
     },
     "execution_count": 98,
     "metadata": {},
     "output_type": "execute_result"
    }
   ],
   "source": [
    "# Number of journeys arriving in the centre at each time frame\n",
    "data.time_frame.value_counts()"
   ]
  },
  {
   "cell_type": "markdown",
   "metadata": {},
   "source": [
    "# Preprocessing"
   ]
  },
  {
   "cell_type": "code",
   "execution_count": 99,
   "metadata": {},
   "outputs": [],
   "source": [
    "# Travel date no longer required in analysis (but maybe useful later if adjust for holidays etc)\n",
    "data = data.drop('travel_date', axis=1)\n",
    "data = data.drop('time_frame', axis=1)"
   ]
  },
  {
   "cell_type": "code",
   "execution_count": 100,
   "metadata": {},
   "outputs": [],
   "source": [
    "# Using get_dummies for one hot encoding of categoricals ie car_type, 'travel_from' and 'day'\n",
    "data = pd.get_dummies(data, prefix=None)"
   ]
  },
  {
   "cell_type": "code",
   "execution_count": 101,
   "metadata": {},
   "outputs": [
    {
     "data": {
      "text/plain": [
       "(7360, 36)"
      ]
     },
     "execution_count": 101,
     "metadata": {},
     "output_type": "execute_result"
    }
   ],
   "source": [
    "data.shape"
   ]
  },
  {
   "cell_type": "code",
   "execution_count": 102,
   "metadata": {},
   "outputs": [
    {
     "data": {
      "text/html": [
       "<div>\n",
       "<style scoped>\n",
       "    .dataframe tbody tr th:only-of-type {\n",
       "        vertical-align: middle;\n",
       "    }\n",
       "\n",
       "    .dataframe tbody tr th {\n",
       "        vertical-align: top;\n",
       "    }\n",
       "\n",
       "    .dataframe thead th {\n",
       "        text-align: right;\n",
       "    }\n",
       "</style>\n",
       "<table border=\"1\" class=\"dataframe\">\n",
       "  <thead>\n",
       "    <tr style=\"text-align: right;\">\n",
       "      <th></th>\n",
       "      <th>ride_id</th>\n",
       "      <th>travel_time</th>\n",
       "      <th>max_capacity</th>\n",
       "      <th>number_of_ticket</th>\n",
       "      <th>daily_mean</th>\n",
       "      <th>daily_min</th>\n",
       "      <th>daily_max</th>\n",
       "      <th>tf_mean</th>\n",
       "      <th>tf_min</th>\n",
       "      <th>tf_max</th>\n",
       "      <th>...</th>\n",
       "      <th>travel_from_Sori</th>\n",
       "      <th>car_type_Bus</th>\n",
       "      <th>car_type_shuttle</th>\n",
       "      <th>day_Fri</th>\n",
       "      <th>day_Mon</th>\n",
       "      <th>day_Sat</th>\n",
       "      <th>day_Sun</th>\n",
       "      <th>day_Thur</th>\n",
       "      <th>day_Tue</th>\n",
       "      <th>day_Wed</th>\n",
       "    </tr>\n",
       "  </thead>\n",
       "  <tbody>\n",
       "    <tr>\n",
       "      <th>4643</th>\n",
       "      <td>1442</td>\n",
       "      <td>7.250000</td>\n",
       "      <td>49</td>\n",
       "      <td>1.0</td>\n",
       "      <td>2734.0</td>\n",
       "      <td>1947.0</td>\n",
       "      <td>4061.0</td>\n",
       "      <td>2978.0</td>\n",
       "      <td>2014.0</td>\n",
       "      <td>4864.0</td>\n",
       "      <td>...</td>\n",
       "      <td>0</td>\n",
       "      <td>1</td>\n",
       "      <td>0</td>\n",
       "      <td>0</td>\n",
       "      <td>0</td>\n",
       "      <td>0</td>\n",
       "      <td>0</td>\n",
       "      <td>0</td>\n",
       "      <td>1</td>\n",
       "      <td>0</td>\n",
       "    </tr>\n",
       "    <tr>\n",
       "      <th>4614</th>\n",
       "      <td>14304</td>\n",
       "      <td>5.166667</td>\n",
       "      <td>49</td>\n",
       "      <td>1.0</td>\n",
       "      <td>2974.0</td>\n",
       "      <td>1806.0</td>\n",
       "      <td>5122.0</td>\n",
       "      <td>3011.0</td>\n",
       "      <td>1859.0</td>\n",
       "      <td>5007.0</td>\n",
       "      <td>...</td>\n",
       "      <td>0</td>\n",
       "      <td>1</td>\n",
       "      <td>0</td>\n",
       "      <td>0</td>\n",
       "      <td>0</td>\n",
       "      <td>0</td>\n",
       "      <td>0</td>\n",
       "      <td>0</td>\n",
       "      <td>1</td>\n",
       "      <td>0</td>\n",
       "    </tr>\n",
       "    <tr>\n",
       "      <th>4644</th>\n",
       "      <td>5437</td>\n",
       "      <td>7.200000</td>\n",
       "      <td>49</td>\n",
       "      <td>1.0</td>\n",
       "      <td>1905.0</td>\n",
       "      <td>1437.0</td>\n",
       "      <td>2598.0</td>\n",
       "      <td>1921.0</td>\n",
       "      <td>1439.0</td>\n",
       "      <td>2651.0</td>\n",
       "      <td>...</td>\n",
       "      <td>0</td>\n",
       "      <td>1</td>\n",
       "      <td>0</td>\n",
       "      <td>0</td>\n",
       "      <td>0</td>\n",
       "      <td>0</td>\n",
       "      <td>1</td>\n",
       "      <td>0</td>\n",
       "      <td>0</td>\n",
       "      <td>0</td>\n",
       "    </tr>\n",
       "    <tr>\n",
       "      <th>714</th>\n",
       "      <td>5710</td>\n",
       "      <td>7.083333</td>\n",
       "      <td>49</td>\n",
       "      <td>1.0</td>\n",
       "      <td>2181.0</td>\n",
       "      <td>1474.0</td>\n",
       "      <td>3350.0</td>\n",
       "      <td>2115.0</td>\n",
       "      <td>1458.0</td>\n",
       "      <td>3133.0</td>\n",
       "      <td>...</td>\n",
       "      <td>0</td>\n",
       "      <td>1</td>\n",
       "      <td>0</td>\n",
       "      <td>0</td>\n",
       "      <td>0</td>\n",
       "      <td>0</td>\n",
       "      <td>1</td>\n",
       "      <td>0</td>\n",
       "      <td>0</td>\n",
       "      <td>0</td>\n",
       "    </tr>\n",
       "    <tr>\n",
       "      <th>4599</th>\n",
       "      <td>13577</td>\n",
       "      <td>9.000000</td>\n",
       "      <td>11</td>\n",
       "      <td>11.0</td>\n",
       "      <td>3121.0</td>\n",
       "      <td>1634.0</td>\n",
       "      <td>6066.0</td>\n",
       "      <td>3634.0</td>\n",
       "      <td>1840.0</td>\n",
       "      <td>7340.0</td>\n",
       "      <td>...</td>\n",
       "      <td>0</td>\n",
       "      <td>0</td>\n",
       "      <td>1</td>\n",
       "      <td>0</td>\n",
       "      <td>1</td>\n",
       "      <td>0</td>\n",
       "      <td>0</td>\n",
       "      <td>0</td>\n",
       "      <td>0</td>\n",
       "      <td>0</td>\n",
       "    </tr>\n",
       "  </tbody>\n",
       "</table>\n",
       "<p>5 rows × 36 columns</p>\n",
       "</div>"
      ],
      "text/plain": [
       "      ride_id  travel_time  max_capacity  number_of_ticket  daily_mean  \\\n",
       "4643     1442     7.250000            49               1.0      2734.0   \n",
       "4614    14304     5.166667            49               1.0      2974.0   \n",
       "4644     5437     7.200000            49               1.0      1905.0   \n",
       "714      5710     7.083333            49               1.0      2181.0   \n",
       "4599    13577     9.000000            11              11.0      3121.0   \n",
       "\n",
       "      daily_min  daily_max  tf_mean  tf_min  tf_max   ...     \\\n",
       "4643     1947.0     4061.0   2978.0  2014.0  4864.0   ...      \n",
       "4614     1806.0     5122.0   3011.0  1859.0  5007.0   ...      \n",
       "4644     1437.0     2598.0   1921.0  1439.0  2651.0   ...      \n",
       "714      1474.0     3350.0   2115.0  1458.0  3133.0   ...      \n",
       "4599     1634.0     6066.0   3634.0  1840.0  7340.0   ...      \n",
       "\n",
       "      travel_from_Sori  car_type_Bus  car_type_shuttle  day_Fri  day_Mon  \\\n",
       "4643                 0             1                 0        0        0   \n",
       "4614                 0             1                 0        0        0   \n",
       "4644                 0             1                 0        0        0   \n",
       "714                  0             1                 0        0        0   \n",
       "4599                 0             0                 1        0        1   \n",
       "\n",
       "      day_Sat  day_Sun  day_Thur  day_Tue  day_Wed  \n",
       "4643        0        0         0        1        0  \n",
       "4614        0        0         0        1        0  \n",
       "4644        0        1         0        0        0  \n",
       "714         0        1         0        0        0  \n",
       "4599        0        0         0        0        0  \n",
       "\n",
       "[5 rows x 36 columns]"
      ]
     },
     "execution_count": 102,
     "metadata": {},
     "output_type": "execute_result"
    }
   ],
   "source": [
    "data.head()"
   ]
  },
  {
   "cell_type": "code",
   "execution_count": 103,
   "metadata": {},
   "outputs": [],
   "source": [
    "# Creating a csv of this dataframe as it will be used as basis for building future models\n",
    "data.to_csv('data_uber.csv', index=False)"
   ]
  },
  {
   "cell_type": "code",
   "execution_count": 104,
   "metadata": {},
   "outputs": [],
   "source": [
    "# Separating out the original train and test set from the source data\n",
    "train_X = data[data['number_of_ticket'].notnull()]\n",
    "train_y = train_X['number_of_ticket']\n",
    "del train_X['number_of_ticket']\n",
    "del train_X['ride_id']\n",
    "\n",
    "# Creating the test set\n",
    "test_X =  data[data['number_of_ticket'].isnull()]\n",
    "# creating a series for test_X ride_id to use when creating submissions\n",
    "ride_id_df = test_X['ride_id']\n",
    "del test_X['number_of_ticket']\n",
    "del test_X['ride_id']"
   ]
  },
  {
   "cell_type": "code",
   "execution_count": 105,
   "metadata": {},
   "outputs": [
    {
     "name": "stdout",
     "output_type": "stream",
     "text": [
      "(6249, 34)\n",
      "(6249,)\n"
     ]
    }
   ],
   "source": [
    "print(train_X.shape)\n",
    "print(train_y.shape)"
   ]
  },
  {
   "cell_type": "markdown",
   "metadata": {},
   "source": [
    "# Building the model - Random forests out of box"
   ]
  },
  {
   "cell_type": "code",
   "execution_count": 106,
   "metadata": {},
   "outputs": [
    {
     "data": {
      "text/plain": [
       "RandomForestRegressor(bootstrap=True, criterion='mae', max_depth=None,\n",
       "           max_features='auto', max_leaf_nodes=None,\n",
       "           min_impurity_decrease=0.0, min_impurity_split=None,\n",
       "           min_samples_leaf=1, min_samples_split=2,\n",
       "           min_weight_fraction_leaf=0.0, n_estimators=10, n_jobs=1,\n",
       "           oob_score=False, random_state=1, verbose=0, warm_start=False)"
      ]
     },
     "execution_count": 106,
     "metadata": {},
     "output_type": "execute_result"
    }
   ],
   "source": [
    "# Name and set parameters for the model out of the box - in theis case a random forest\n",
    "forest_model = RandomForestRegressor(random_state=1, criterion ='mae')\n",
    "# Fit the model to the training data\n",
    "forest_model.fit(train_X, train_y)"
   ]
  },
  {
   "cell_type": "code",
   "execution_count": 107,
   "metadata": {},
   "outputs": [
    {
     "name": "stdout",
     "output_type": "stream",
     "text": [
      "The predictions of the first five rows are [17.5   1.2   7.2   2.    9.65]\n"
     ]
    }
   ],
   "source": [
    "# Making predictions for the first few rows of the training set or sanity check\n",
    "print(\"The predictions of the first five rows are\", forest_model.predict(train_X.head()))"
   ]
  },
  {
   "cell_type": "code",
   "execution_count": 108,
   "metadata": {},
   "outputs": [
    {
     "name": "stdout",
     "output_type": "stream",
     "text": [
      "mae: run on full training set 1.569323091694671\n",
      "train score: 0.9011774775167772\n"
     ]
    }
   ],
   "source": [
    "# Now run the model on the training set and see what it predicts\n",
    "forest_model_preds = forest_model.predict(train_X)\n",
    "# Compare the predctions with the actual training values using mae as specified int he competition\n",
    "print ('mae: run on full training set',mean_absolute_error(forest_model_preds, train_y))\n",
    "# generated score - level of accuracy \n",
    "print ('train score:', forest_model.score( train_X , train_y ))"
   ]
  },
  {
   "cell_type": "code",
   "execution_count": 109,
   "metadata": {},
   "outputs": [],
   "source": [
    "# Running on the final Zindi set\n",
    "# Run the model on the test set \n",
    "forest_model_pred_y = forest_model.predict(test_X)"
   ]
  },
  {
   "cell_type": "code",
   "execution_count": 110,
   "metadata": {},
   "outputs": [
    {
     "data": {
      "text/html": [
       "<div>\n",
       "<style scoped>\n",
       "    .dataframe tbody tr th:only-of-type {\n",
       "        vertical-align: middle;\n",
       "    }\n",
       "\n",
       "    .dataframe tbody tr th {\n",
       "        vertical-align: top;\n",
       "    }\n",
       "\n",
       "    .dataframe thead th {\n",
       "        text-align: right;\n",
       "    }\n",
       "</style>\n",
       "<table border=\"1\" class=\"dataframe\">\n",
       "  <thead>\n",
       "    <tr style=\"text-align: right;\">\n",
       "      <th></th>\n",
       "      <th>ride_id</th>\n",
       "      <th>number_of_ticket</th>\n",
       "    </tr>\n",
       "  </thead>\n",
       "  <tbody>\n",
       "    <tr>\n",
       "      <th>6816</th>\n",
       "      <td>13856</td>\n",
       "      <td>20.0</td>\n",
       "    </tr>\n",
       "    <tr>\n",
       "      <th>6817</th>\n",
       "      <td>13857</td>\n",
       "      <td>2.5</td>\n",
       "    </tr>\n",
       "    <tr>\n",
       "      <th>6807</th>\n",
       "      <td>13847</td>\n",
       "      <td>5.5</td>\n",
       "    </tr>\n",
       "    <tr>\n",
       "      <th>6819</th>\n",
       "      <td>13859</td>\n",
       "      <td>8.7</td>\n",
       "    </tr>\n",
       "    <tr>\n",
       "      <th>6815</th>\n",
       "      <td>13855</td>\n",
       "      <td>11.7</td>\n",
       "    </tr>\n",
       "  </tbody>\n",
       "</table>\n",
       "</div>"
      ],
      "text/plain": [
       "      ride_id  number_of_ticket\n",
       "6816    13856              20.0\n",
       "6817    13857               2.5\n",
       "6807    13847               5.5\n",
       "6819    13859               8.7\n",
       "6815    13855              11.7"
      ]
     },
     "execution_count": 110,
     "metadata": {},
     "output_type": "execute_result"
    }
   ],
   "source": [
    "# creating the csv\n",
    "submission_data = {'ride_id': ride_id_df, 'number_of_ticket': forest_model_pred_y}\n",
    "submission_data = pd.DataFrame(data=submission_data)\n",
    "submission_data = submission_data[['ride_id','number_of_ticket']]\n",
    "submission_data.head()"
   ]
  },
  {
   "cell_type": "code",
   "execution_count": 111,
   "metadata": {},
   "outputs": [],
   "source": [
    "submission_data.to_csv('predictions2_rf0.csv', index=False) #save to csv file"
   ]
  },
  {
   "cell_type": "code",
   "execution_count": 112,
   "metadata": {},
   "outputs": [],
   "source": [
    "# Results on Zindi 4.063\n",
    "# Position 44\n",
    "# Learning points: Overfitting. Need to see benefits parameter tuning will bring"
   ]
  },
  {
   "cell_type": "markdown",
   "metadata": {},
   "source": [
    "# Creating a validation set from within the training set."
   ]
  },
  {
   "cell_type": "code",
   "execution_count": 114,
   "metadata": {},
   "outputs": [
    {
     "name": "stdout",
     "output_type": "stream",
     "text": [
      "(4999, 34) (4999,)\n",
      "(1250, 34) (1250,)\n"
     ]
    }
   ],
   "source": [
    "# set the validation model with train_v_X being the training element, test_v_X being the test element and same for y\n",
    "# http://scikit-learn.org/stable/modules/generated/sklearn.model_selection.train_test_split.html\n",
    "train_v_X , test_v_X , train_v_y , test_v_y = train_test_split( train_X , train_y , test_size = .2, random_state=0 )\n",
    "# Printing the shape of the\n",
    "print( train_v_X.shape, train_v_y.shape)\n",
    "print (test_v_X.shape, test_v_y.shape)"
   ]
  },
  {
   "cell_type": "code",
   "execution_count": 115,
   "metadata": {},
   "outputs": [],
   "source": [
    "# Creat a new model (forest_model1) based on the validation training set to test on validation set\n",
    "# Name and set parameters for the model out of the box - in theis case a random forest\n",
    "forest_model1 = RandomForestRegressor(random_state=1, criterion ='mae')"
   ]
  },
  {
   "cell_type": "code",
   "execution_count": 116,
   "metadata": {},
   "outputs": [
    {
     "data": {
      "text/plain": [
       "RandomForestRegressor(bootstrap=True, criterion='mae', max_depth=None,\n",
       "           max_features='auto', max_leaf_nodes=None,\n",
       "           min_impurity_decrease=0.0, min_impurity_split=None,\n",
       "           min_samples_leaf=1, min_samples_split=2,\n",
       "           min_weight_fraction_leaf=0.0, n_estimators=10, n_jobs=1,\n",
       "           oob_score=False, random_state=1, verbose=0, warm_start=False)"
      ]
     },
     "execution_count": 116,
     "metadata": {},
     "output_type": "execute_result"
    }
   ],
   "source": [
    "# Fit the random forest model to the train validation data\n",
    "forest_model1.fit(train_v_X, train_v_y)"
   ]
  },
  {
   "cell_type": "code",
   "execution_count": 117,
   "metadata": {},
   "outputs": [
    {
     "data": {
      "text/plain": [
       "array([18.9,  3.7,  2.1,  4. ,  2.2])"
      ]
     },
     "execution_count": 117,
     "metadata": {},
     "output_type": "execute_result"
    }
   ],
   "source": [
    "# How did the model perform on the test valudation data\n",
    "forest_model1_val_preds = forest_model1.predict(test_v_X)\n",
    "forest_model1_val_preds[0:5]"
   ]
  },
  {
   "cell_type": "code",
   "execution_count": 118,
   "metadata": {},
   "outputs": [
    {
     "name": "stdout",
     "output_type": "stream",
     "text": [
      "mae: validation prediction / test: 3.62788\n",
      "validation test score: 0.5292437509665859\n"
     ]
    }
   ],
   "source": [
    "# Compare the predctions with the validation test results ie test_v_y\n",
    "print ('mae: validation prediction / test:',mean_absolute_error(forest_model1_val_preds, test_v_y))\n",
    "# generated score - level of accuracy but not sure how its measured\n",
    "print ('validation test score:', forest_model1.score( test_v_X , test_v_y ))"
   ]
  },
  {
   "cell_type": "code",
   "execution_count": 119,
   "metadata": {},
   "outputs": [],
   "source": [
    "# Running on the final Zindi set\n",
    "# Run the model on the test set \n",
    "forest_model1_pred_y = forest_model1.predict(test_X)"
   ]
  },
  {
   "cell_type": "code",
   "execution_count": 120,
   "metadata": {},
   "outputs": [
    {
     "data": {
      "text/html": [
       "<div>\n",
       "<style scoped>\n",
       "    .dataframe tbody tr th:only-of-type {\n",
       "        vertical-align: middle;\n",
       "    }\n",
       "\n",
       "    .dataframe tbody tr th {\n",
       "        vertical-align: top;\n",
       "    }\n",
       "\n",
       "    .dataframe thead th {\n",
       "        text-align: right;\n",
       "    }\n",
       "</style>\n",
       "<table border=\"1\" class=\"dataframe\">\n",
       "  <thead>\n",
       "    <tr style=\"text-align: right;\">\n",
       "      <th></th>\n",
       "      <th>ride_id</th>\n",
       "      <th>number_of_ticket</th>\n",
       "    </tr>\n",
       "  </thead>\n",
       "  <tbody>\n",
       "    <tr>\n",
       "      <th>6816</th>\n",
       "      <td>13856</td>\n",
       "      <td>17.7</td>\n",
       "    </tr>\n",
       "    <tr>\n",
       "      <th>6817</th>\n",
       "      <td>13857</td>\n",
       "      <td>4.8</td>\n",
       "    </tr>\n",
       "    <tr>\n",
       "      <th>6807</th>\n",
       "      <td>13847</td>\n",
       "      <td>4.4</td>\n",
       "    </tr>\n",
       "    <tr>\n",
       "      <th>6819</th>\n",
       "      <td>13859</td>\n",
       "      <td>8.6</td>\n",
       "    </tr>\n",
       "    <tr>\n",
       "      <th>6815</th>\n",
       "      <td>13855</td>\n",
       "      <td>10.4</td>\n",
       "    </tr>\n",
       "  </tbody>\n",
       "</table>\n",
       "</div>"
      ],
      "text/plain": [
       "      ride_id  number_of_ticket\n",
       "6816    13856              17.7\n",
       "6817    13857               4.8\n",
       "6807    13847               4.4\n",
       "6819    13859               8.6\n",
       "6815    13855              10.4"
      ]
     },
     "execution_count": 120,
     "metadata": {},
     "output_type": "execute_result"
    }
   ],
   "source": [
    "# creating the csv\n",
    "submission_data = {'ride_id': ride_id_df, 'number_of_ticket': forest_model1_pred_y}\n",
    "submission_data = pd.DataFrame(data=submission_data)\n",
    "submission_data = submission_data[['ride_id','number_of_ticket']]\n",
    "submission_data.head()"
   ]
  },
  {
   "cell_type": "code",
   "execution_count": 121,
   "metadata": {},
   "outputs": [],
   "source": [
    "submission_data.to_csv('predictions_uber_rf1_validation.csv', index=False) #save to csv file"
   ]
  },
  {
   "cell_type": "code",
   "execution_count": 122,
   "metadata": {},
   "outputs": [
    {
     "name": "stdout",
     "output_type": "stream",
     "text": [
      "Model 0: mae on self 1.569323091694671\n",
      "Model 0: train score / test score 0.8991069106529078 0.9098188406924221\n",
      "Model 1: mae on validation data 3.62788\n",
      "Model 1: train score / test score 0.8967692061262742 0.5292437509665859\n"
     ]
    }
   ],
   "source": [
    "print('Model 0: mae on self', mean_absolute_error(forest_model_preds, train_y))\n",
    "print ('Model 0: train score / test score', forest_model.score( train_v_X , train_v_y ) , forest_model.score( test_v_X , test_v_y ))\n",
    "print('Model 1: mae on validation data', mean_absolute_error(forest_model1_val_preds, test_v_y))\n",
    "print ('Model 1: train score / test score', forest_model1.score( train_v_X , train_v_y ) , forest_model1.score( test_v_X , test_v_y ))"
   ]
  },
  {
   "cell_type": "code",
   "execution_count": 123,
   "metadata": {},
   "outputs": [],
   "source": [
    "# Results on Zindi 4.116\n",
    "# Position low\n",
    "# Learning points\n",
    "# Comments: \n",
    "# The scores based on validation data were lower than those acheived when tested on itself suggesting\n",
    "# overfitting in the first test above. This is to be expected considering its tested on itself. \n",
    "# Otherwise results were quite reasonable\n",
    "\n",
    "# Results of running the model on Zindi were lower than achieved using full training set."
   ]
  },
  {
   "cell_type": "markdown",
   "metadata": {},
   "source": []
  },
  {
   "cell_type": "code",
   "execution_count": null,
   "metadata": {},
   "outputs": [],
   "source": []
  },
  {
   "cell_type": "markdown",
   "metadata": {},
   "source": [
    "# Selecting max number of leaf nodes manually, using validation set"
   ]
  },
  {
   "cell_type": "code",
   "execution_count": 124,
   "metadata": {},
   "outputs": [],
   "source": [
    "# Identifying optimum number of leaf nodes by sampling a few key values\n",
    "# Formula taken from Kaggle tutorial on ML not my own\n",
    "# first set up a formula for generating number of leaf nodes and mean absolue errors\n",
    "def get_mae(max_leaf_nodes, train_v_X, test_v_X, train_v_y, test_v_y):\n",
    "    forest_model2 = DecisionTreeRegressor(max_leaf_nodes=max_leaf_nodes, random_state=1, criterion ='mae')\n",
    "    forest_model2.fit(train_v_X, train_v_y)\n",
    "    preds_val = forest_model2.predict(test_v_X)\n",
    "    mae = mean_absolute_error(test_v_y, preds_val)\n",
    "    return(mae)"
   ]
  },
  {
   "cell_type": "code",
   "execution_count": 125,
   "metadata": {},
   "outputs": [
    {
     "name": "stdout",
     "output_type": "stream",
     "text": [
      "Max leaf nodes: 5  \t\t Mean Absolute Error:  4.6624\n",
      "Max leaf nodes: 10  \t\t Mean Absolute Error:  3.9624\n",
      "Max leaf nodes: 25  \t\t Mean Absolute Error:  3.6592\n",
      "Max leaf nodes: 50  \t\t Mean Absolute Error:  3.5136\n",
      "Max leaf nodes: 100  \t\t Mean Absolute Error:  3.4948\n",
      "Max leaf nodes: 500  \t\t Mean Absolute Error:  4.042\n",
      "Max leaf nodes: 5000  \t\t Mean Absolute Error:  4.5184\n"
     ]
    }
   ],
   "source": [
    "# compare MAE with differing values of max_leaf_nodes\n",
    "for max_leaf_nodes in [5, 10, 25, 50, 100, 500, 5000]:\n",
    "    my_mae = get_mae(max_leaf_nodes, train_v_X, test_v_X, train_v_y, test_v_y)\n",
    "    print(\"Max leaf nodes: {}  \\t\\t Mean Absolute Error:  {}\" .format(max_leaf_nodes, my_mae))"
   ]
  },
  {
   "cell_type": "code",
   "execution_count": 126,
   "metadata": {},
   "outputs": [
    {
     "name": "stdout",
     "output_type": "stream",
     "text": [
      "Max leaf nodes: 60  \t\t Mean Absolute Error:  3.4756\n",
      "Max leaf nodes: 70  \t\t Mean Absolute Error:  3.464\n",
      "Max leaf nodes: 75  \t\t Mean Absolute Error:  3.476\n",
      "Max leaf nodes: 80  \t\t Mean Absolute Error:  3.4924\n",
      "Max leaf nodes: 90  \t\t Mean Absolute Error:  3.5008\n",
      "Max leaf nodes: 100  \t\t Mean Absolute Error:  3.4948\n",
      "Max leaf nodes: 110  \t\t Mean Absolute Error:  3.5812\n",
      "Max leaf nodes: 120  \t\t Mean Absolute Error:  3.5976\n"
     ]
    }
   ],
   "source": [
    "# Repeat by honing in on 100\n",
    "# compare MAE with differing values of max_leaf_nodes\n",
    "for max_leaf_nodes in [60, 70, 75, 80, 90, 100, 110, 120]:\n",
    "    my_mae = get_mae(max_leaf_nodes, train_v_X, test_v_X, train_v_y, test_v_y)\n",
    "    print(\"Max leaf nodes: {}  \\t\\t Mean Absolute Error:  {}\" .format(max_leaf_nodes, my_mae))"
   ]
  },
  {
   "cell_type": "code",
   "execution_count": 135,
   "metadata": {},
   "outputs": [
    {
     "data": {
      "text/plain": [
       "RandomForestRegressor(bootstrap=True, criterion='mae', max_depth=None,\n",
       "           max_features='auto', max_leaf_nodes=70,\n",
       "           min_impurity_decrease=0.0, min_impurity_split=None,\n",
       "           min_samples_leaf=1, min_samples_split=2,\n",
       "           min_weight_fraction_leaf=0.0, n_estimators=10, n_jobs=1,\n",
       "           oob_score=False, random_state=1, verbose=0, warm_start=False)"
      ]
     },
     "execution_count": 135,
     "metadata": {},
     "output_type": "execute_result"
    }
   ],
   "source": [
    "# Name and set parameters for the model - in theis case a random forest\n",
    "forest_model3 = RandomForestRegressor(random_state=1, criterion ='mae', max_leaf_nodes=70)\n",
    "# Fit the model to the training data\n",
    "forest_model3.fit(train_v_X, train_v_y)"
   ]
  },
  {
   "cell_type": "code",
   "execution_count": 136,
   "metadata": {},
   "outputs": [
    {
     "name": "stdout",
     "output_type": "stream",
     "text": [
      "mae: 3.5170800000000004\n",
      "train score: 0.5313745729245736\n"
     ]
    }
   ],
   "source": [
    "# Now run the model on the training set and see what it predicts\n",
    "forest_model3_preds = forest_model3.predict(test_v_X)\n",
    "# Compare the predctions with the actual training values using mae as specified int he competition\n",
    "print ('mae:',mean_absolute_error(forest_model3_preds, test_v_y))\n",
    "# generated score - level of accuracy but not sure how its measured\n",
    "print ('train score:', forest_model3.score( test_v_X , test_v_y ))"
   ]
  },
  {
   "cell_type": "code",
   "execution_count": 137,
   "metadata": {},
   "outputs": [
    {
     "name": "stdout",
     "output_type": "stream",
     "text": [
      "Model 0: mae on self 1.569323091694671\n",
      "Model 0: train score / test score 0.8991069106529078 0.9098188406924221\n",
      "Model 1: mae on validation data 3.62788\n",
      "Model 1: train score / test score 0.8967692061262742 0.5292437509665859\n",
      "Model 3: mae on validation data 3.5170800000000004\n",
      "Model 3: train score / test score 0.6047670180724635 0.5313745729245736\n"
     ]
    }
   ],
   "source": [
    "print('Model 0: mae on self', mean_absolute_error(forest_model_preds, train_y))\n",
    "print ('Model 0: train score / test score', forest_model.score( train_v_X , train_v_y ) , forest_model.score( test_v_X , test_v_y ))\n",
    "print('Model 1: mae on validation data', mean_absolute_error(forest_model1_val_preds, test_v_y))\n",
    "print ('Model 1: train score / test score', forest_model1.score( train_v_X , train_v_y ) , forest_model1.score( test_v_X , test_v_y ))\n",
    "# print('Model 2: mae on self', mean_absolute_error(forest_model2_preds, train_y))\n",
    "# print ('Model 2: train score / test score', forest_model2.score( train_v_X , train_v_y ) , forest_model2.score( test_v_X , test_v_y ))\n",
    "print('Model 3: mae on validation data', mean_absolute_error(forest_model3_preds, test_v_y))\n",
    "print ('Model 3: train score / test score', forest_model3.score( train_v_X , train_v_y ) , forest_model3.score( test_v_X , test_v_y ))\n"
   ]
  },
  {
   "cell_type": "markdown",
   "metadata": {},
   "source": [
    "# Running the max_leaf model on the test set to generate a submission"
   ]
  },
  {
   "cell_type": "code",
   "execution_count": 130,
   "metadata": {},
   "outputs": [],
   "source": [
    "# Run the model to generate predictions for test set\n",
    "forest_model3_pred = forest_model3.predict(test_X)"
   ]
  },
  {
   "cell_type": "code",
   "execution_count": 131,
   "metadata": {},
   "outputs": [
    {
     "data": {
      "text/html": [
       "<div>\n",
       "<style scoped>\n",
       "    .dataframe tbody tr th:only-of-type {\n",
       "        vertical-align: middle;\n",
       "    }\n",
       "\n",
       "    .dataframe tbody tr th {\n",
       "        vertical-align: top;\n",
       "    }\n",
       "\n",
       "    .dataframe thead th {\n",
       "        text-align: right;\n",
       "    }\n",
       "</style>\n",
       "<table border=\"1\" class=\"dataframe\">\n",
       "  <thead>\n",
       "    <tr style=\"text-align: right;\">\n",
       "      <th></th>\n",
       "      <th>ride_id</th>\n",
       "      <th>number_of_ticket</th>\n",
       "    </tr>\n",
       "  </thead>\n",
       "  <tbody>\n",
       "    <tr>\n",
       "      <th>6816</th>\n",
       "      <td>13856</td>\n",
       "      <td>21.65</td>\n",
       "    </tr>\n",
       "    <tr>\n",
       "      <th>6817</th>\n",
       "      <td>13857</td>\n",
       "      <td>1.20</td>\n",
       "    </tr>\n",
       "    <tr>\n",
       "      <th>6807</th>\n",
       "      <td>13847</td>\n",
       "      <td>3.60</td>\n",
       "    </tr>\n",
       "    <tr>\n",
       "      <th>6819</th>\n",
       "      <td>13859</td>\n",
       "      <td>8.05</td>\n",
       "    </tr>\n",
       "    <tr>\n",
       "      <th>6815</th>\n",
       "      <td>13855</td>\n",
       "      <td>6.95</td>\n",
       "    </tr>\n",
       "  </tbody>\n",
       "</table>\n",
       "</div>"
      ],
      "text/plain": [
       "      ride_id  number_of_ticket\n",
       "6816    13856             21.65\n",
       "6817    13857              1.20\n",
       "6807    13847              3.60\n",
       "6819    13859              8.05\n",
       "6815    13855              6.95"
      ]
     },
     "execution_count": 131,
     "metadata": {},
     "output_type": "execute_result"
    }
   ],
   "source": [
    "# creating the csv\n",
    "submission_data = {'ride_id': ride_id_df, 'number_of_ticket': forest_model3_pred}\n",
    "submission_data = pd.DataFrame(data=submission_data)\n",
    "submission_data = submission_data[['ride_id','number_of_ticket']]\n",
    "submission_data.head()"
   ]
  },
  {
   "cell_type": "code",
   "execution_count": 132,
   "metadata": {},
   "outputs": [],
   "source": [
    "submission_data.to_csv('predictions2_uber_rf2_max_leaf_validation.csv', index=False) #save to csv file"
   ]
  },
  {
   "cell_type": "code",
   "execution_count": 133,
   "metadata": {},
   "outputs": [],
   "source": [
    "# score 5.42 position 40 out of 56\n",
    "# Amended to exclude ride id and now 3.811 and 10th out of 56\n",
    "# Amended to 3.77615 and again 10th out of\n",
    "\n",
    "\n",
    "# Introducing uber data gives 3.864 and 21st on leaderboard"
   ]
  },
  {
   "cell_type": "markdown",
   "metadata": {},
   "source": [
    "# Experimenting with feature importance but no improvement found\n",
    "https://chrisalbon.com/machine_learning/trees_and_forests/feature_selection_using_random_forest/\n",
    "https://www.kaggle.com/niklasdonges/end-to-end-project-with-python/notebook"
   ]
  },
  {
   "cell_type": "code",
   "execution_count": 139,
   "metadata": {},
   "outputs": [],
   "source": [
    "# Creating a table of features and their importance (gini impurity) for the forest model max leaf model, sorting in order\n",
    "importances = pd.DataFrame({'feature':train_v_X.columns,'importance':np.round(forest_model3.feature_importances_,3)})\n",
    "importances = importances.sort_values('importance',ascending=False).set_index('feature')"
   ]
  },
  {
   "cell_type": "code",
   "execution_count": 140,
   "metadata": {},
   "outputs": [
    {
     "data": {
      "text/html": [
       "<div>\n",
       "<style scoped>\n",
       "    .dataframe tbody tr th:only-of-type {\n",
       "        vertical-align: middle;\n",
       "    }\n",
       "\n",
       "    .dataframe tbody tr th {\n",
       "        vertical-align: top;\n",
       "    }\n",
       "\n",
       "    .dataframe thead th {\n",
       "        text-align: right;\n",
       "    }\n",
       "</style>\n",
       "<table border=\"1\" class=\"dataframe\">\n",
       "  <thead>\n",
       "    <tr style=\"text-align: right;\">\n",
       "      <th></th>\n",
       "      <th>importance</th>\n",
       "    </tr>\n",
       "    <tr>\n",
       "      <th>feature</th>\n",
       "      <th></th>\n",
       "    </tr>\n",
       "  </thead>\n",
       "  <tbody>\n",
       "    <tr>\n",
       "      <th>travel_time</th>\n",
       "      <td>0.358</td>\n",
       "    </tr>\n",
       "    <tr>\n",
       "      <th>travel_from_Kisii</th>\n",
       "      <td>0.118</td>\n",
       "    </tr>\n",
       "    <tr>\n",
       "      <th>travel_from_Sirare</th>\n",
       "      <td>0.106</td>\n",
       "    </tr>\n",
       "    <tr>\n",
       "      <th>travel_from_Homa Bay</th>\n",
       "      <td>0.084</td>\n",
       "    </tr>\n",
       "    <tr>\n",
       "      <th>travel_from_Migori</th>\n",
       "      <td>0.074</td>\n",
       "    </tr>\n",
       "    <tr>\n",
       "      <th>travel_from_Kehancha</th>\n",
       "      <td>0.028</td>\n",
       "    </tr>\n",
       "    <tr>\n",
       "      <th>tf_min</th>\n",
       "      <td>0.025</td>\n",
       "    </tr>\n",
       "    <tr>\n",
       "      <th>daily_min</th>\n",
       "      <td>0.022</td>\n",
       "    </tr>\n",
       "    <tr>\n",
       "      <th>tf_max</th>\n",
       "      <td>0.019</td>\n",
       "    </tr>\n",
       "    <tr>\n",
       "      <th>daily_mean</th>\n",
       "      <td>0.019</td>\n",
       "    </tr>\n",
       "    <tr>\n",
       "      <th>tf_mean</th>\n",
       "      <td>0.017</td>\n",
       "    </tr>\n",
       "    <tr>\n",
       "      <th>daily_max</th>\n",
       "      <td>0.017</td>\n",
       "    </tr>\n",
       "    <tr>\n",
       "      <th>travel_from_Awendo</th>\n",
       "      <td>0.013</td>\n",
       "    </tr>\n",
       "    <tr>\n",
       "      <th>day_Sat</th>\n",
       "      <td>0.013</td>\n",
       "    </tr>\n",
       "    <tr>\n",
       "      <th>travel_from_Kijauri</th>\n",
       "      <td>0.012</td>\n",
       "    </tr>\n",
       "    <tr>\n",
       "      <th>travel_from_Keroka</th>\n",
       "      <td>0.011</td>\n",
       "    </tr>\n",
       "    <tr>\n",
       "      <th>travel_from_Ndhiwa</th>\n",
       "      <td>0.009</td>\n",
       "    </tr>\n",
       "    <tr>\n",
       "      <th>car_type_shuttle</th>\n",
       "      <td>0.008</td>\n",
       "    </tr>\n",
       "    <tr>\n",
       "      <th>travel_from_Nyachenge</th>\n",
       "      <td>0.008</td>\n",
       "    </tr>\n",
       "    <tr>\n",
       "      <th>travel_from_Mbita</th>\n",
       "      <td>0.007</td>\n",
       "    </tr>\n",
       "    <tr>\n",
       "      <th>travel_from_Rodi</th>\n",
       "      <td>0.006</td>\n",
       "    </tr>\n",
       "    <tr>\n",
       "      <th>car_type_Bus</th>\n",
       "      <td>0.005</td>\n",
       "    </tr>\n",
       "    <tr>\n",
       "      <th>max_capacity</th>\n",
       "      <td>0.004</td>\n",
       "    </tr>\n",
       "    <tr>\n",
       "      <th>travel_from_Rongo</th>\n",
       "      <td>0.003</td>\n",
       "    </tr>\n",
       "    <tr>\n",
       "      <th>day_Mon</th>\n",
       "      <td>0.003</td>\n",
       "    </tr>\n",
       "    <tr>\n",
       "      <th>day_Thur</th>\n",
       "      <td>0.003</td>\n",
       "    </tr>\n",
       "    <tr>\n",
       "      <th>day_Tue</th>\n",
       "      <td>0.003</td>\n",
       "    </tr>\n",
       "    <tr>\n",
       "      <th>day_Sun</th>\n",
       "      <td>0.002</td>\n",
       "    </tr>\n",
       "    <tr>\n",
       "      <th>travel_from_Sori</th>\n",
       "      <td>0.001</td>\n",
       "    </tr>\n",
       "    <tr>\n",
       "      <th>day_Fri</th>\n",
       "      <td>0.001</td>\n",
       "    </tr>\n",
       "    <tr>\n",
       "      <th>day_Wed</th>\n",
       "      <td>0.001</td>\n",
       "    </tr>\n",
       "    <tr>\n",
       "      <th>travel_from_Oyugis</th>\n",
       "      <td>0.000</td>\n",
       "    </tr>\n",
       "    <tr>\n",
       "      <th>travel_from_Keumbu</th>\n",
       "      <td>0.000</td>\n",
       "    </tr>\n",
       "    <tr>\n",
       "      <th>travel_from_Kendu Bay</th>\n",
       "      <td>0.000</td>\n",
       "    </tr>\n",
       "  </tbody>\n",
       "</table>\n",
       "</div>"
      ],
      "text/plain": [
       "                       importance\n",
       "feature                          \n",
       "travel_time                 0.358\n",
       "travel_from_Kisii           0.118\n",
       "travel_from_Sirare          0.106\n",
       "travel_from_Homa Bay        0.084\n",
       "travel_from_Migori          0.074\n",
       "travel_from_Kehancha        0.028\n",
       "tf_min                      0.025\n",
       "daily_min                   0.022\n",
       "tf_max                      0.019\n",
       "daily_mean                  0.019\n",
       "tf_mean                     0.017\n",
       "daily_max                   0.017\n",
       "travel_from_Awendo          0.013\n",
       "day_Sat                     0.013\n",
       "travel_from_Kijauri         0.012\n",
       "travel_from_Keroka          0.011\n",
       "travel_from_Ndhiwa          0.009\n",
       "car_type_shuttle            0.008\n",
       "travel_from_Nyachenge       0.008\n",
       "travel_from_Mbita           0.007\n",
       "travel_from_Rodi            0.006\n",
       "car_type_Bus                0.005\n",
       "max_capacity                0.004\n",
       "travel_from_Rongo           0.003\n",
       "day_Mon                     0.003\n",
       "day_Thur                    0.003\n",
       "day_Tue                     0.003\n",
       "day_Sun                     0.002\n",
       "travel_from_Sori            0.001\n",
       "day_Fri                     0.001\n",
       "day_Wed                     0.001\n",
       "travel_from_Oyugis          0.000\n",
       "travel_from_Keumbu          0.000\n",
       "travel_from_Kendu Bay       0.000"
      ]
     },
     "execution_count": 140,
     "metadata": {},
     "output_type": "execute_result"
    }
   ],
   "source": [
    "importances"
   ]
  },
  {
   "cell_type": "code",
   "execution_count": 141,
   "metadata": {},
   "outputs": [],
   "source": [
    "# Isolating the features which have threshold above 0.01 using the select from model transformer onto the model\n",
    "sfm = SelectFromModel(forest_model3, threshold=0.01)"
   ]
  },
  {
   "cell_type": "code",
   "execution_count": 142,
   "metadata": {},
   "outputs": [
    {
     "data": {
      "text/plain": [
       "SelectFromModel(estimator=RandomForestRegressor(bootstrap=True, criterion='mae', max_depth=None,\n",
       "           max_features='auto', max_leaf_nodes=70,\n",
       "           min_impurity_decrease=0.0, min_impurity_split=None,\n",
       "           min_samples_leaf=1, min_samples_split=2,\n",
       "           min_weight_fraction_leaf=0.0, n_estimators=10, n_jobs=1,\n",
       "           oob_score=False, random_state=1, verbose=0, warm_start=False),\n",
       "        norm_order=1, prefit=False, threshold=0.01)"
      ]
     },
     "execution_count": 142,
     "metadata": {},
     "output_type": "execute_result"
    }
   ],
   "source": [
    "# Train the selector by fitting feature reduced model to validation training data\n",
    "sfm.fit(train_v_X, train_v_y)"
   ]
  },
  {
   "cell_type": "code",
   "execution_count": 144,
   "metadata": {},
   "outputs": [],
   "source": [
    "# Redefining the train and test sets to only include important features. y values do not change as do not have features\n",
    "X_important_v_train = sfm.transform(train_v_X)\n",
    "X_important_v_test = sfm.transform(test_v_X)"
   ]
  },
  {
   "cell_type": "code",
   "execution_count": 145,
   "metadata": {},
   "outputs": [
    {
     "data": {
      "text/plain": [
       "RandomForestRegressor(bootstrap=True, criterion='mse', max_depth=None,\n",
       "           max_features='auto', max_leaf_nodes=None,\n",
       "           min_impurity_decrease=0.0, min_impurity_split=None,\n",
       "           min_samples_leaf=1, min_samples_split=2,\n",
       "           min_weight_fraction_leaf=0.0, n_estimators=10000, n_jobs=-1,\n",
       "           oob_score=False, random_state=0, verbose=0, warm_start=False)"
      ]
     },
     "execution_count": 145,
     "metadata": {},
     "output_type": "execute_result"
    }
   ],
   "source": [
    "# Create a new random forest regressor for the most important features\n",
    "rf_important = RandomForestRegressor(n_estimators=10000, random_state=0, n_jobs=-1)\n",
    "\n",
    "# Train the new classifier on the new dataset containing the most important features\n",
    "rf_important.fit(X_important_v_train, train_v_y)"
   ]
  },
  {
   "cell_type": "code",
   "execution_count": 146,
   "metadata": {},
   "outputs": [
    {
     "name": "stdout",
     "output_type": "stream",
     "text": [
      "mae: 3.5170800000000004\n"
     ]
    },
    {
     "data": {
      "text/plain": [
       "0.5313745729245736"
      ]
     },
     "execution_count": 146,
     "metadata": {},
     "output_type": "execute_result"
    }
   ],
   "source": [
    "# Apply The Full Featured Classifier To The Test Data\n",
    "y_pred = forest_model3.predict(test_v_X)\n",
    "print ('mae:',mean_absolute_error(y_pred, test_v_y))\n",
    "# View The Accuracy Of Our Full Feature (4 Features) Model\n",
    "forest_model3.score(test_v_X, test_v_y)"
   ]
  },
  {
   "cell_type": "code",
   "execution_count": 148,
   "metadata": {},
   "outputs": [
    {
     "name": "stdout",
     "output_type": "stream",
     "text": [
      "mae: 3.7373169338470418\n"
     ]
    },
    {
     "data": {
      "text/plain": [
       "0.539348271052106"
      ]
     },
     "execution_count": 148,
     "metadata": {},
     "output_type": "execute_result"
    }
   ],
   "source": [
    "# Apply The Full Featured Classifier To The Test Data\n",
    "y_important_pred = rf_important.predict(X_important_v_test)\n",
    "print ('mae:',mean_absolute_error(y_important_pred, test_v_y))\n",
    "# View The Accuracy Of Our Limited Feature (2 Features) Model\n",
    "rf_important.score(X_important_v_test, test_v_y)"
   ]
  },
  {
   "cell_type": "code",
   "execution_count": 149,
   "metadata": {},
   "outputs": [],
   "source": [
    "### Running new model on complete test set to reduce features\n",
    "X_important_train = sfm.transform(train_X)\n",
    "X_important_test = sfm.transform(test_X)"
   ]
  },
  {
   "cell_type": "code",
   "execution_count": 150,
   "metadata": {},
   "outputs": [],
   "source": [
    "# Identifying optimum number of leaf nodes by sampling a few key values\n",
    "# first set up a formula for generating number of leaf nodes and mean absolue errors\n",
    "def get_mae(max_leaf_nodes, X_important_v_train, X_important_v_test, train_v_y, test_v_y):\n",
    "    decisiontreeregressor = DecisionTreeRegressor(max_leaf_nodes=max_leaf_nodes, random_state=0, criterion ='mae')\n",
    "    decisiontreeregressor.fit(X_important_v_train, train_v_y)\n",
    "    preds_val = decisiontreeregressor.predict(X_important_v_test)\n",
    "    mae = mean_absolute_error(test_v_y, preds_val)\n",
    "    return(mae)"
   ]
  },
  {
   "cell_type": "code",
   "execution_count": 151,
   "metadata": {},
   "outputs": [
    {
     "name": "stdout",
     "output_type": "stream",
     "text": [
      "Max leaf nodes: 60  \t\t Mean Absolute Error:  3.5316\n",
      "Max leaf nodes: 70  \t\t Mean Absolute Error:  3.5784\n",
      "Max leaf nodes: 75  \t\t Mean Absolute Error:  3.574\n",
      "Max leaf nodes: 80  \t\t Mean Absolute Error:  3.5884\n",
      "Max leaf nodes: 90  \t\t Mean Absolute Error:  3.6436\n",
      "Max leaf nodes: 100  \t\t Mean Absolute Error:  3.6832\n",
      "Max leaf nodes: 110  \t\t Mean Absolute Error:  3.7152\n",
      "Max leaf nodes: 120  \t\t Mean Absolute Error:  3.7724\n"
     ]
    }
   ],
   "source": [
    "# compare MAE with differing values of max_leaf_nodes\n",
    "for max_leaf_nodes in [60, 70, 75, 80, 90, 100, 110, 120]:\n",
    "    my_mae = get_mae(max_leaf_nodes, X_important_v_train, X_important_v_test, train_v_y, test_v_y)\n",
    "    print(\"Max leaf nodes: {}  \\t\\t Mean Absolute Error:  {}\" .format(max_leaf_nodes, my_mae))"
   ]
  },
  {
   "cell_type": "code",
   "execution_count": 152,
   "metadata": {},
   "outputs": [
    {
     "data": {
      "text/plain": [
       "RandomForestRegressor(bootstrap=True, criterion='mse', max_depth=None,\n",
       "           max_features='auto', max_leaf_nodes=70,\n",
       "           min_impurity_decrease=0.0, min_impurity_split=None,\n",
       "           min_samples_leaf=1, min_samples_split=2,\n",
       "           min_weight_fraction_leaf=0.0, n_estimators=10, n_jobs=-1,\n",
       "           oob_score=False, random_state=0, verbose=0, warm_start=False)"
      ]
     },
     "execution_count": 152,
     "metadata": {},
     "output_type": "execute_result"
    }
   ],
   "source": [
    "# Create a new random forest regressor for the most important features. But this has not been tuned\n",
    "rf_important = RandomForestRegressor(max_leaf_nodes = 70, random_state=0, n_jobs=-1)\n",
    "\n",
    "# Train the new classifier on the new dataset containing the most important features\n",
    "rf_important.fit(X_important_train, train_y)"
   ]
  },
  {
   "cell_type": "code",
   "execution_count": 153,
   "metadata": {},
   "outputs": [],
   "source": [
    "# Run the model to generate predictions for full  test set\n",
    "y_important_pred = rf_important.predict(X_important_test)"
   ]
  },
  {
   "cell_type": "code",
   "execution_count": 154,
   "metadata": {},
   "outputs": [
    {
     "data": {
      "text/html": [
       "<div>\n",
       "<style scoped>\n",
       "    .dataframe tbody tr th:only-of-type {\n",
       "        vertical-align: middle;\n",
       "    }\n",
       "\n",
       "    .dataframe tbody tr th {\n",
       "        vertical-align: top;\n",
       "    }\n",
       "\n",
       "    .dataframe thead th {\n",
       "        text-align: right;\n",
       "    }\n",
       "</style>\n",
       "<table border=\"1\" class=\"dataframe\">\n",
       "  <thead>\n",
       "    <tr style=\"text-align: right;\">\n",
       "      <th></th>\n",
       "      <th>ride_id</th>\n",
       "      <th>number_of_ticket</th>\n",
       "    </tr>\n",
       "  </thead>\n",
       "  <tbody>\n",
       "    <tr>\n",
       "      <th>6816</th>\n",
       "      <td>13856</td>\n",
       "      <td>21.633221</td>\n",
       "    </tr>\n",
       "    <tr>\n",
       "      <th>6817</th>\n",
       "      <td>13857</td>\n",
       "      <td>11.797062</td>\n",
       "    </tr>\n",
       "    <tr>\n",
       "      <th>6807</th>\n",
       "      <td>13847</td>\n",
       "      <td>4.277168</td>\n",
       "    </tr>\n",
       "    <tr>\n",
       "      <th>6819</th>\n",
       "      <td>13859</td>\n",
       "      <td>6.695055</td>\n",
       "    </tr>\n",
       "    <tr>\n",
       "      <th>6815</th>\n",
       "      <td>13855</td>\n",
       "      <td>6.695055</td>\n",
       "    </tr>\n",
       "  </tbody>\n",
       "</table>\n",
       "</div>"
      ],
      "text/plain": [
       "      ride_id  number_of_ticket\n",
       "6816    13856         21.633221\n",
       "6817    13857         11.797062\n",
       "6807    13847          4.277168\n",
       "6819    13859          6.695055\n",
       "6815    13855          6.695055"
      ]
     },
     "execution_count": 154,
     "metadata": {},
     "output_type": "execute_result"
    }
   ],
   "source": [
    "# creating the csv\n",
    "submission_data = {'ride_id': ride_id_df, 'number_of_ticket': y_important_pred}\n",
    "submission_data = pd.DataFrame(data=submission_data)\n",
    "submission_data = submission_data[['ride_id','number_of_ticket']]\n",
    "submission_data.head()"
   ]
  },
  {
   "cell_type": "code",
   "execution_count": 155,
   "metadata": {},
   "outputs": [],
   "source": [
    "submission_data.to_csv('predictions2_uber_rf2_max_leaf_validation_important_features.csv', index=False) #save to csv file"
   ]
  },
  {
   "cell_type": "code",
   "execution_count": 156,
   "metadata": {},
   "outputs": [],
   "source": [
    "# Zindi score 4.3167 but this is without tuning\n",
    "# Xindi score 4.0807 after max leaf tuning based on the"
   ]
  },
  {
   "cell_type": "code",
   "execution_count": 157,
   "metadata": {},
   "outputs": [],
   "source": [
    "# These results are higher than the results for the full test so no further testing"
   ]
  },
  {
   "cell_type": "code",
   "execution_count": null,
   "metadata": {},
   "outputs": [],
   "source": []
  }
 ],
 "metadata": {
  "kernelspec": {
   "display_name": "Python 3",
   "language": "python",
   "name": "python3"
  },
  "language_info": {
   "codemirror_mode": {
    "name": "ipython",
    "version": 3
   },
   "file_extension": ".py",
   "mimetype": "text/x-python",
   "name": "python",
   "nbconvert_exporter": "python",
   "pygments_lexer": "ipython3",
   "version": "3.6.5"
  }
 },
 "nbformat": 4,
 "nbformat_minor": 2
}
